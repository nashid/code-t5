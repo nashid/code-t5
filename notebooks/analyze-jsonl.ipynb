{
 "cells": [
  {
   "cell_type": "code",
   "execution_count": 2,
   "id": "85115a5b",
   "metadata": {},
   "outputs": [],
   "source": [
    "import pandas as pd\n",
    "import glob"
   ]
  },
  {
   "cell_type": "code",
   "execution_count": 80,
   "id": "c1e0f33e",
   "metadata": {},
   "outputs": [
    {
     "output_type": "stream",
     "name": "stdout",
     "text": [
      "data/jsonl/3167-filtered-3.jsonl\n"
     ]
    }
   ],
   "source": [
    "dfs = []\n",
    "for file in glob.glob('data/jsonl/3167-filtered-3.jsonl'): #data/dataset-normalized-5000-with-imports/*.jsonl\n",
    "    print(file)\n",
    "    data = pd.read_json(file, lines=True)\n",
    "    dfs.append(data)\n",
    "\n",
    "df = pd.concat(dfs, ignore_index=True)\n",
    "del data"
   ]
  },
  {
   "cell_type": "code",
   "execution_count": 81,
   "metadata": {},
   "outputs": [
    {
     "output_type": "execute_result",
     "data": {
      "text/plain": [
       "3145"
      ]
     },
     "metadata": {},
     "execution_count": 81
    }
   ],
   "source": [
    "df['repository'].nunique()"
   ]
  },
  {
   "source": [
    "## why not 3167 repositores for 3k files? # \n",
    "It was, before \n",
    " * filtering ~6k files out by \"line length\" heuristics\n",
    " * filtering ~1k generated files\n",
    " \n",
    "```\n",
    "find data/dataset-normalized-5000-with-imports -iname \"*.jsonl\" | wc -l\n",
    "\n",
    "find data/dataset-normalized-5000-with-imports -iname \"*.*.jsonl\" | awk -F'/' '{print $3}' | sort -d > 3000-repos-jsonl\n",
    "```\n",
    "\n",
    "```python\n",
    "import os\n",
    "with open(\"3000-repos-df\", \"w\") as f:\n",
    "    for org_repo in df.repository.sort_values().unique():\n",
    "        org, repo = os.path.split(org_repo)\n",
    "        f.write(f\"{org}_{repo}.jsonl\")\n",
    "        f.write(\"\\n\")\n",
    "```"
   ],
   "cell_type": "markdown",
   "metadata": {}
  },
  {
   "cell_type": "code",
   "execution_count": 82,
   "id": "d1297a3e",
   "metadata": {},
   "outputs": [
    {
     "output_type": "execute_result",
     "data": {
      "text/plain": [
       "               repository   size  \\\n",
       "0                 0ad/0ad   2509   \n",
       "1                 0ad/0ad   2225   \n",
       "2                 0ad/0ad   1784   \n",
       "3                 0ad/0ad    549   \n",
       "4                 0ad/0ad   2962   \n",
       "...                   ...    ...   \n",
       "248272  zzzeek/sqlalchemy   1951   \n",
       "248273  zzzeek/sqlalchemy  16327   \n",
       "248274  zzzeek/sqlalchemy  26501   \n",
       "248275  zzzeek/sqlalchemy    375   \n",
       "248276  zzzeek/sqlalchemy   9871   \n",
       "\n",
       "                                                      sha content  \\\n",
       "0       51c1894ca7887b51dbee60994adb161ac77b2948f32ee7...           \n",
       "1       50ecf3c0377cc81322dc8cce8fc63350bc3a4fd056e360...           \n",
       "2       d2b38e70785f94c7d66b149f35cbf8c1ce850b3e70ac7c...           \n",
       "3       3f13c62677566db455114db13ea9e138ef44c446433564...           \n",
       "4       c5740d60833387c47c4a13f5744d3e2d9a31ba39038507...           \n",
       "...                                                   ...     ...   \n",
       "248272  e41156afadb43ebd23d6c0264f214e59c30dad226fc31b...           \n",
       "248273  4c150d2ae898d68e70c39c4c284ffdd75cb2658ade7095...           \n",
       "248274  903a0a76c46c78f42c67c429b69ed93b204e914d416319...           \n",
       "248275  50aba9ba30fce98ac7692739a0d4271c8604316f7e0d76...           \n",
       "248276  8ebd3c5b7dd24498025b950e1cf27b8a8d1685cc5e955c...           \n",
       "\n",
       "                                                 filepath license  \n",
       "0       libraries/source/cxxtest-4.4/python/python3/cx...          \n",
       "1                 source/tools/fontbuilder2/FontLoader.py          \n",
       "2            libraries/source/cxxtest-4.4/python/setup.py          \n",
       "3       libraries/source/cxxtest-4.4/build_tools/SCons...          \n",
       "4           source/tools/webservices/profilemiddleware.py          \n",
       "...                                                   ...     ...  \n",
       "248272                      lib/sqlalchemy/engine/util.py          \n",
       "248273              lib/sqlalchemy/orm/instrumentation.py          \n",
       "248274                      test/engine/test_reconnect.py          \n",
       "248275                examples/space_invaders/__init__.py          \n",
       "248276                   lib/sqlalchemy/orm/properties.py          \n",
       "\n",
       "[248277 rows x 6 columns]"
      ],
      "text/html": "<div>\n<style scoped>\n    .dataframe tbody tr th:only-of-type {\n        vertical-align: middle;\n    }\n\n    .dataframe tbody tr th {\n        vertical-align: top;\n    }\n\n    .dataframe thead th {\n        text-align: right;\n    }\n</style>\n<table border=\"1\" class=\"dataframe\">\n  <thead>\n    <tr style=\"text-align: right;\">\n      <th></th>\n      <th>repository</th>\n      <th>size</th>\n      <th>sha</th>\n      <th>content</th>\n      <th>filepath</th>\n      <th>license</th>\n    </tr>\n  </thead>\n  <tbody>\n    <tr>\n      <th>0</th>\n      <td>0ad/0ad</td>\n      <td>2509</td>\n      <td>51c1894ca7887b51dbee60994adb161ac77b2948f32ee7...</td>\n      <td></td>\n      <td>libraries/source/cxxtest-4.4/python/python3/cx...</td>\n      <td></td>\n    </tr>\n    <tr>\n      <th>1</th>\n      <td>0ad/0ad</td>\n      <td>2225</td>\n      <td>50ecf3c0377cc81322dc8cce8fc63350bc3a4fd056e360...</td>\n      <td></td>\n      <td>source/tools/fontbuilder2/FontLoader.py</td>\n      <td></td>\n    </tr>\n    <tr>\n      <th>2</th>\n      <td>0ad/0ad</td>\n      <td>1784</td>\n      <td>d2b38e70785f94c7d66b149f35cbf8c1ce850b3e70ac7c...</td>\n      <td></td>\n      <td>libraries/source/cxxtest-4.4/python/setup.py</td>\n      <td></td>\n    </tr>\n    <tr>\n      <th>3</th>\n      <td>0ad/0ad</td>\n      <td>549</td>\n      <td>3f13c62677566db455114db13ea9e138ef44c446433564...</td>\n      <td></td>\n      <td>libraries/source/cxxtest-4.4/build_tools/SCons...</td>\n      <td></td>\n    </tr>\n    <tr>\n      <th>4</th>\n      <td>0ad/0ad</td>\n      <td>2962</td>\n      <td>c5740d60833387c47c4a13f5744d3e2d9a31ba39038507...</td>\n      <td></td>\n      <td>source/tools/webservices/profilemiddleware.py</td>\n      <td></td>\n    </tr>\n    <tr>\n      <th>...</th>\n      <td>...</td>\n      <td>...</td>\n      <td>...</td>\n      <td>...</td>\n      <td>...</td>\n      <td>...</td>\n    </tr>\n    <tr>\n      <th>248272</th>\n      <td>zzzeek/sqlalchemy</td>\n      <td>1951</td>\n      <td>e41156afadb43ebd23d6c0264f214e59c30dad226fc31b...</td>\n      <td></td>\n      <td>lib/sqlalchemy/engine/util.py</td>\n      <td></td>\n    </tr>\n    <tr>\n      <th>248273</th>\n      <td>zzzeek/sqlalchemy</td>\n      <td>16327</td>\n      <td>4c150d2ae898d68e70c39c4c284ffdd75cb2658ade7095...</td>\n      <td></td>\n      <td>lib/sqlalchemy/orm/instrumentation.py</td>\n      <td></td>\n    </tr>\n    <tr>\n      <th>248274</th>\n      <td>zzzeek/sqlalchemy</td>\n      <td>26501</td>\n      <td>903a0a76c46c78f42c67c429b69ed93b204e914d416319...</td>\n      <td></td>\n      <td>test/engine/test_reconnect.py</td>\n      <td></td>\n    </tr>\n    <tr>\n      <th>248275</th>\n      <td>zzzeek/sqlalchemy</td>\n      <td>375</td>\n      <td>50aba9ba30fce98ac7692739a0d4271c8604316f7e0d76...</td>\n      <td></td>\n      <td>examples/space_invaders/__init__.py</td>\n      <td></td>\n    </tr>\n    <tr>\n      <th>248276</th>\n      <td>zzzeek/sqlalchemy</td>\n      <td>9871</td>\n      <td>8ebd3c5b7dd24498025b950e1cf27b8a8d1685cc5e955c...</td>\n      <td></td>\n      <td>lib/sqlalchemy/orm/properties.py</td>\n      <td></td>\n    </tr>\n  </tbody>\n</table>\n<p>248277 rows × 6 columns</p>\n</div>"
     },
     "metadata": {},
     "execution_count": 82
    }
   ],
   "source": [
    "df"
   ]
  },
  {
   "cell_type": "code",
   "execution_count": 83,
   "metadata": {},
   "outputs": [
    {
     "output_type": "execute_result",
     "data": {
      "text/plain": [
       "248277"
      ]
     },
     "metadata": {},
     "execution_count": 83
    }
   ],
   "source": [
    "df[df['size'] < 1*1024*1024].sha.count()"
   ]
  },
  {
   "cell_type": "code",
   "execution_count": 84,
   "metadata": {},
   "outputs": [
    {
     "output_type": "execute_result",
     "data": {
      "text/plain": [
       "210815"
      ]
     },
     "metadata": {},
     "execution_count": 84
    }
   ],
   "source": [
    "df.sha.nunique()"
   ]
  },
  {
   "cell_type": "code",
   "execution_count": 85,
   "metadata": {},
   "outputs": [
    {
     "output_type": "execute_result",
     "data": {
      "text/plain": [
       "                                                      sha  count\n",
       "1404    01ba4719c80b6fe911b091a7c05124b64eeece964e09c0...    336\n",
       "80050   615f131b5a16e184e88522fc5e89c7f80466e3a4a81815...    235\n",
       "107293  8274277ad0d0d23426b3a15462b98a68bad173f8cb7131...    204\n",
       "92371   70605ccf393d5ca87f002d3efa79546e9aeb15aecf5f6b...    148\n",
       "49678   3c555e5614c89ffb168132f9ab294adbd4163ffea50911...    139\n",
       "...                                                   ...    ...\n",
       "37567   2d81345091417c8044abc996f3da10e66f5cac7baa1159...      2\n",
       "54034   41ca9d8c9875f406a950817471f3e71fc5bb0fbeee0997...      2\n",
       "109829  858b9ded3d24bdff13999de0bd46220fc7cfae3c63a329...      2\n",
       "53979   41b9779374d76a0d2afb6dfbddc5a8c24c428b79767659...      2\n",
       "174992  d46e898fbccac6f0f54d6818f69d06f84a982844df5309...      2\n",
       "\n",
       "[20188 rows x 2 columns]"
      ],
      "text/html": "<div>\n<style scoped>\n    .dataframe tbody tr th:only-of-type {\n        vertical-align: middle;\n    }\n\n    .dataframe tbody tr th {\n        vertical-align: top;\n    }\n\n    .dataframe thead th {\n        text-align: right;\n    }\n</style>\n<table border=\"1\" class=\"dataframe\">\n  <thead>\n    <tr style=\"text-align: right;\">\n      <th></th>\n      <th>sha</th>\n      <th>count</th>\n    </tr>\n  </thead>\n  <tbody>\n    <tr>\n      <th>1404</th>\n      <td>01ba4719c80b6fe911b091a7c05124b64eeece964e09c0...</td>\n      <td>336</td>\n    </tr>\n    <tr>\n      <th>80050</th>\n      <td>615f131b5a16e184e88522fc5e89c7f80466e3a4a81815...</td>\n      <td>235</td>\n    </tr>\n    <tr>\n      <th>107293</th>\n      <td>8274277ad0d0d23426b3a15462b98a68bad173f8cb7131...</td>\n      <td>204</td>\n    </tr>\n    <tr>\n      <th>92371</th>\n      <td>70605ccf393d5ca87f002d3efa79546e9aeb15aecf5f6b...</td>\n      <td>148</td>\n    </tr>\n    <tr>\n      <th>49678</th>\n      <td>3c555e5614c89ffb168132f9ab294adbd4163ffea50911...</td>\n      <td>139</td>\n    </tr>\n    <tr>\n      <th>...</th>\n      <td>...</td>\n      <td>...</td>\n    </tr>\n    <tr>\n      <th>37567</th>\n      <td>2d81345091417c8044abc996f3da10e66f5cac7baa1159...</td>\n      <td>2</td>\n    </tr>\n    <tr>\n      <th>54034</th>\n      <td>41ca9d8c9875f406a950817471f3e71fc5bb0fbeee0997...</td>\n      <td>2</td>\n    </tr>\n    <tr>\n      <th>109829</th>\n      <td>858b9ded3d24bdff13999de0bd46220fc7cfae3c63a329...</td>\n      <td>2</td>\n    </tr>\n    <tr>\n      <th>53979</th>\n      <td>41b9779374d76a0d2afb6dfbddc5a8c24c428b79767659...</td>\n      <td>2</td>\n    </tr>\n    <tr>\n      <th>174992</th>\n      <td>d46e898fbccac6f0f54d6818f69d06f84a982844df5309...</td>\n      <td>2</td>\n    </tr>\n  </tbody>\n</table>\n<p>20188 rows × 2 columns</p>\n</div>"
     },
     "metadata": {},
     "execution_count": 85
    }
   ],
   "source": [
    "dup_sha = df.groupby('sha').size().reset_index(name='count').sort_values(by='count', ascending=False)\n",
    "dup_sha[dup_sha['count']>1]"
   ]
  },
  {
   "cell_type": "code",
   "execution_count": 86,
   "metadata": {},
   "outputs": [
    {
     "output_type": "execute_result",
     "data": {
      "text/plain": [
       "sha      01ba4719c80b6fe911b091a7c05124b64eeece964e09c0...\n",
       "count                                                57650\n",
       "dtype: object"
      ]
     },
     "metadata": {},
     "execution_count": 86
    }
   ],
   "source": [
    "dup_sha[dup_sha['count']>1].sum()"
   ]
  },
  {
   "cell_type": "code",
   "execution_count": 87,
   "metadata": {},
   "outputs": [
    {
     "output_type": "execute_result",
     "data": {
      "text/plain": [
       "                                                                     sha  \\\n",
       "1404    01ba4719c80b6fe911b091a7c05124b64eeece964e09c058ef8f9805daca546b   \n",
       "80050   615f131b5a16e184e88522fc5e89c7f80466e3a4a818157ec233ab5bec2c8bc2   \n",
       "107293  8274277ad0d0d23426b3a15462b98a68bad173f8cb71315e477be25649d1651c   \n",
       "92371   70605ccf393d5ca87f002d3efa79546e9aeb15aecf5f6bdf8f94d9e9926df748   \n",
       "49678   3c555e5614c89ffb168132f9ab294adbd4163ffea509119701aa0546dd042ff5   \n",
       "...                                                                  ...   \n",
       "37567   2d81345091417c8044abc996f3da10e66f5cac7baa11594f24df3bdfe88b2374   \n",
       "54034   41ca9d8c9875f406a950817471f3e71fc5bb0fbeee099714714aa5a6e46778ce   \n",
       "109829  858b9ded3d24bdff13999de0bd46220fc7cfae3c63a329e8a99f9d7b5ad389ef   \n",
       "53979   41b9779374d76a0d2afb6dfbddc5a8c24c428b79767659e10f65305844987be1   \n",
       "174992  d46e898fbccac6f0f54d6818f69d06f84a982844df5309db6c8e0863685d618a   \n",
       "\n",
       "        count  \n",
       "1404      336  \n",
       "80050     235  \n",
       "107293    204  \n",
       "92371     148  \n",
       "49678     139  \n",
       "...       ...  \n",
       "37567       2  \n",
       "54034       2  \n",
       "109829      2  \n",
       "53979       2  \n",
       "174992      2  \n",
       "\n",
       "[20188 rows x 2 columns]"
      ],
      "text/html": "<div>\n<style scoped>\n    .dataframe tbody tr th:only-of-type {\n        vertical-align: middle;\n    }\n\n    .dataframe tbody tr th {\n        vertical-align: top;\n    }\n\n    .dataframe thead th {\n        text-align: right;\n    }\n</style>\n<table border=\"1\" class=\"dataframe\">\n  <thead>\n    <tr style=\"text-align: right;\">\n      <th></th>\n      <th>sha</th>\n      <th>count</th>\n    </tr>\n  </thead>\n  <tbody>\n    <tr>\n      <th>1404</th>\n      <td>01ba4719c80b6fe911b091a7c05124b64eeece964e09c058ef8f9805daca546b</td>\n      <td>336</td>\n    </tr>\n    <tr>\n      <th>80050</th>\n      <td>615f131b5a16e184e88522fc5e89c7f80466e3a4a818157ec233ab5bec2c8bc2</td>\n      <td>235</td>\n    </tr>\n    <tr>\n      <th>107293</th>\n      <td>8274277ad0d0d23426b3a15462b98a68bad173f8cb71315e477be25649d1651c</td>\n      <td>204</td>\n    </tr>\n    <tr>\n      <th>92371</th>\n      <td>70605ccf393d5ca87f002d3efa79546e9aeb15aecf5f6bdf8f94d9e9926df748</td>\n      <td>148</td>\n    </tr>\n    <tr>\n      <th>49678</th>\n      <td>3c555e5614c89ffb168132f9ab294adbd4163ffea509119701aa0546dd042ff5</td>\n      <td>139</td>\n    </tr>\n    <tr>\n      <th>...</th>\n      <td>...</td>\n      <td>...</td>\n    </tr>\n    <tr>\n      <th>37567</th>\n      <td>2d81345091417c8044abc996f3da10e66f5cac7baa11594f24df3bdfe88b2374</td>\n      <td>2</td>\n    </tr>\n    <tr>\n      <th>54034</th>\n      <td>41ca9d8c9875f406a950817471f3e71fc5bb0fbeee099714714aa5a6e46778ce</td>\n      <td>2</td>\n    </tr>\n    <tr>\n      <th>109829</th>\n      <td>858b9ded3d24bdff13999de0bd46220fc7cfae3c63a329e8a99f9d7b5ad389ef</td>\n      <td>2</td>\n    </tr>\n    <tr>\n      <th>53979</th>\n      <td>41b9779374d76a0d2afb6dfbddc5a8c24c428b79767659e10f65305844987be1</td>\n      <td>2</td>\n    </tr>\n    <tr>\n      <th>174992</th>\n      <td>d46e898fbccac6f0f54d6818f69d06f84a982844df5309db6c8e0863685d618a</td>\n      <td>2</td>\n    </tr>\n  </tbody>\n</table>\n<p>20188 rows × 2 columns</p>\n</div>"
     },
     "metadata": {},
     "execution_count": 87
    }
   ],
   "source": [
    "pd.set_option('max_colwidth', None)\n",
    "dup_sha[dup_sha['count']>1]"
   ]
  },
  {
   "cell_type": "code",
   "execution_count": 79,
   "metadata": {},
   "outputs": [
    {
     "output_type": "execute_result",
     "data": {
      "text/plain": [
       "               repository  size  \\\n",
       "4                 0ad/0ad     0   \n",
       "21                0ad/0ad     0   \n",
       "30                0ad/0ad     0   \n",
       "32                0ad/0ad     0   \n",
       "35                0ad/0ad     0   \n",
       "...                   ...   ...   \n",
       "262716  zzzeek/sqlalchemy     0   \n",
       "262737  zzzeek/sqlalchemy     0   \n",
       "262783  zzzeek/sqlalchemy     0   \n",
       "262796  zzzeek/sqlalchemy     0   \n",
       "262807  zzzeek/sqlalchemy     0   \n",
       "\n",
       "                                                      sha content  \\\n",
       "4       e3b0c44298fc1c149afbf4c8996fb92427ae41e4649b93...           \n",
       "21      e3b0c44298fc1c149afbf4c8996fb92427ae41e4649b93...           \n",
       "30      e3b0c44298fc1c149afbf4c8996fb92427ae41e4649b93...           \n",
       "32      e3b0c44298fc1c149afbf4c8996fb92427ae41e4649b93...           \n",
       "35      e3b0c44298fc1c149afbf4c8996fb92427ae41e4649b93...           \n",
       "...                                                   ...     ...   \n",
       "262716  e3b0c44298fc1c149afbf4c8996fb92427ae41e4649b93...           \n",
       "262737  e3b0c44298fc1c149afbf4c8996fb92427ae41e4649b93...           \n",
       "262783  e3b0c44298fc1c149afbf4c8996fb92427ae41e4649b93...           \n",
       "262796  e3b0c44298fc1c149afbf4c8996fb92427ae41e4649b93...           \n",
       "262807  e3b0c44298fc1c149afbf4c8996fb92427ae41e4649b93...           \n",
       "\n",
       "                                                 filepath license  \n",
       "4                source/tools/i18n/extractors/__init__.py          \n",
       "21                   source/tools/webservices/__init__.py          \n",
       "30      libraries/source/cxxtest-4.4/build_tools/SCons...          \n",
       "32      libraries/source/cxxtest-4.4/build_tools/SCons...          \n",
       "35      source/tools/webservices/userreport/templateta...          \n",
       "...                                                   ...     ...  \n",
       "262716                               test/sql/__init__.py          \n",
       "262737                               test/ext/__init__.py          \n",
       "262783                     test/dialect/mssql/__init__.py          \n",
       "262796                               test/orm/__init__.py          \n",
       "262807                     test/dialect/mysql/__init__.py          \n",
       "\n",
       "[14533 rows x 6 columns]"
      ],
      "text/html": "<div>\n<style scoped>\n    .dataframe tbody tr th:only-of-type {\n        vertical-align: middle;\n    }\n\n    .dataframe tbody tr th {\n        vertical-align: top;\n    }\n\n    .dataframe thead th {\n        text-align: right;\n    }\n</style>\n<table border=\"1\" class=\"dataframe\">\n  <thead>\n    <tr style=\"text-align: right;\">\n      <th></th>\n      <th>repository</th>\n      <th>size</th>\n      <th>sha</th>\n      <th>content</th>\n      <th>filepath</th>\n      <th>license</th>\n    </tr>\n  </thead>\n  <tbody>\n    <tr>\n      <th>4</th>\n      <td>0ad/0ad</td>\n      <td>0</td>\n      <td>e3b0c44298fc1c149afbf4c8996fb92427ae41e4649b93...</td>\n      <td></td>\n      <td>source/tools/i18n/extractors/__init__.py</td>\n      <td></td>\n    </tr>\n    <tr>\n      <th>21</th>\n      <td>0ad/0ad</td>\n      <td>0</td>\n      <td>e3b0c44298fc1c149afbf4c8996fb92427ae41e4649b93...</td>\n      <td></td>\n      <td>source/tools/webservices/__init__.py</td>\n      <td></td>\n    </tr>\n    <tr>\n      <th>30</th>\n      <td>0ad/0ad</td>\n      <td>0</td>\n      <td>e3b0c44298fc1c149afbf4c8996fb92427ae41e4649b93...</td>\n      <td></td>\n      <td>libraries/source/cxxtest-4.4/build_tools/SCons...</td>\n      <td></td>\n    </tr>\n    <tr>\n      <th>32</th>\n      <td>0ad/0ad</td>\n      <td>0</td>\n      <td>e3b0c44298fc1c149afbf4c8996fb92427ae41e4649b93...</td>\n      <td></td>\n      <td>libraries/source/cxxtest-4.4/build_tools/SCons...</td>\n      <td></td>\n    </tr>\n    <tr>\n      <th>35</th>\n      <td>0ad/0ad</td>\n      <td>0</td>\n      <td>e3b0c44298fc1c149afbf4c8996fb92427ae41e4649b93...</td>\n      <td></td>\n      <td>source/tools/webservices/userreport/templateta...</td>\n      <td></td>\n    </tr>\n    <tr>\n      <th>...</th>\n      <td>...</td>\n      <td>...</td>\n      <td>...</td>\n      <td>...</td>\n      <td>...</td>\n      <td>...</td>\n    </tr>\n    <tr>\n      <th>262716</th>\n      <td>zzzeek/sqlalchemy</td>\n      <td>0</td>\n      <td>e3b0c44298fc1c149afbf4c8996fb92427ae41e4649b93...</td>\n      <td></td>\n      <td>test/sql/__init__.py</td>\n      <td></td>\n    </tr>\n    <tr>\n      <th>262737</th>\n      <td>zzzeek/sqlalchemy</td>\n      <td>0</td>\n      <td>e3b0c44298fc1c149afbf4c8996fb92427ae41e4649b93...</td>\n      <td></td>\n      <td>test/ext/__init__.py</td>\n      <td></td>\n    </tr>\n    <tr>\n      <th>262783</th>\n      <td>zzzeek/sqlalchemy</td>\n      <td>0</td>\n      <td>e3b0c44298fc1c149afbf4c8996fb92427ae41e4649b93...</td>\n      <td></td>\n      <td>test/dialect/mssql/__init__.py</td>\n      <td></td>\n    </tr>\n    <tr>\n      <th>262796</th>\n      <td>zzzeek/sqlalchemy</td>\n      <td>0</td>\n      <td>e3b0c44298fc1c149afbf4c8996fb92427ae41e4649b93...</td>\n      <td></td>\n      <td>test/orm/__init__.py</td>\n      <td></td>\n    </tr>\n    <tr>\n      <th>262807</th>\n      <td>zzzeek/sqlalchemy</td>\n      <td>0</td>\n      <td>e3b0c44298fc1c149afbf4c8996fb92427ae41e4649b93...</td>\n      <td></td>\n      <td>test/dialect/mysql/__init__.py</td>\n      <td></td>\n    </tr>\n  </tbody>\n</table>\n<p>14533 rows × 6 columns</p>\n</div>"
     },
     "metadata": {},
     "execution_count": 79
    }
   ],
   "source": [
    "pd.reset_option('max_colwidth')\n",
    "df[df.sha == 'e3b0c44298fc1c149afbf4c8996fb92427ae41e4649b934ca495991b7852b855']"
   ]
  },
  {
   "cell_type": "code",
   "execution_count": 95,
   "id": "83c244fe",
   "metadata": {},
   "outputs": [],
   "source": [
    "#df.groupby('repository').size().sort_values().plot.bar()"
   ]
  },
  {
   "cell_type": "code",
   "execution_count": 88,
   "metadata": {},
   "outputs": [
    {
     "output_type": "execute_result",
     "data": {
      "text/plain": [
       "<AxesSubplot:>"
      ]
     },
     "metadata": {},
     "execution_count": 88
    },
    {
     "output_type": "display_data",
     "data": {
      "text/plain": "<Figure size 432x288 with 1 Axes>",
      "image/svg+xml": "<?xml version=\"1.0\" encoding=\"utf-8\" standalone=\"no\"?>\n<!DOCTYPE svg PUBLIC \"-//W3C//DTD SVG 1.1//EN\"\n  \"http://www.w3.org/Graphics/SVG/1.1/DTD/svg11.dtd\">\n<svg height=\"248.518125pt\" version=\"1.1\" viewBox=\"0 0 379.111014 248.518125\" width=\"379.111014pt\" xmlns=\"http://www.w3.org/2000/svg\" xmlns:xlink=\"http://www.w3.org/1999/xlink\">\n <metadata>\n  <rdf:RDF xmlns:cc=\"http://creativecommons.org/ns#\" xmlns:dc=\"http://purl.org/dc/elements/1.1/\" xmlns:rdf=\"http://www.w3.org/1999/02/22-rdf-syntax-ns#\">\n   <cc:Work>\n    <dc:type rdf:resource=\"http://purl.org/dc/dcmitype/StillImage\"/>\n    <dc:date>2021-08-19T14:57:51.330541</dc:date>\n    <dc:format>image/svg+xml</dc:format>\n    <dc:creator>\n     <cc:Agent>\n      <dc:title>Matplotlib v3.4.3, https://matplotlib.org/</dc:title>\n     </cc:Agent>\n    </dc:creator>\n   </cc:Work>\n  </rdf:RDF>\n </metadata>\n <defs>\n  <style type=\"text/css\">*{stroke-linecap:butt;stroke-linejoin:round;}</style>\n </defs>\n <g id=\"figure_1\">\n  <g id=\"patch_1\">\n   <path d=\"M 0 248.518125 \nL 379.111014 248.518125 \nL 379.111014 0 \nL 0 0 \nz\n\" style=\"fill:none;\"/>\n  </g>\n  <g id=\"axes_1\">\n   <g id=\"patch_2\">\n    <path d=\"M 31.8 224.64 \nL 366.6 224.64 \nL 366.6 7.2 \nL 31.8 7.2 \nz\n\" style=\"fill:#ffffff;\"/>\n   </g>\n   <g id=\"patch_3\">\n    <path clip-path=\"url(#p913be83e71)\" d=\"M 47.018182 57458.677463 \nL 54.822378 57458.677463 \nL 54.822378 17.083636 \nL 47.018182 17.083636 \nz\n\" style=\"fill:#1f77b4;\"/>\n   </g>\n   <g id=\"patch_4\">\n    <path clip-path=\"url(#p913be83e71)\" d=\"M 54.822378 57458.677463 \nL 62.626573 57458.677463 \nL 62.626573 86.498539 \nL 54.822378 86.498539 \nz\n\" style=\"fill:#1f77b4;\"/>\n   </g>\n   <g id=\"patch_5\">\n    <path clip-path=\"url(#p913be83e71)\" d=\"M 62.626573 57458.677463 \nL 70.430769 57458.677463 \nL 70.430769 116.525604 \nL 62.626573 116.525604 \nz\n\" style=\"fill:#1f77b4;\"/>\n   </g>\n   <g id=\"patch_6\">\n    <path clip-path=\"url(#p913be83e71)\" d=\"M 70.430769 57458.677463 \nL 78.234965 57458.677463 \nL 78.234965 130.200151 \nL 70.430769 130.200151 \nz\n\" style=\"fill:#1f77b4;\"/>\n   </g>\n   <g id=\"patch_7\">\n    <path clip-path=\"url(#p913be83e71)\" d=\"M 78.234965 57458.677463 \nL 86.039161 57458.677463 \nL 86.039161 147.432288 \nL 78.234965 147.432288 \nz\n\" style=\"fill:#1f77b4;\"/>\n   </g>\n   <g id=\"patch_8\">\n    <path clip-path=\"url(#p913be83e71)\" d=\"M 86.039161 57458.677463 \nL 93.843357 57458.677463 \nL 93.843357 155.142963 \nL 86.039161 155.142963 \nz\n\" style=\"fill:#1f77b4;\"/>\n   </g>\n   <g id=\"patch_9\">\n    <path clip-path=\"url(#p913be83e71)\" d=\"M 93.843357 57458.677463 \nL 101.647552 57458.677463 \nL 101.647552 160.131781 \nL 93.843357 160.131781 \nz\n\" style=\"fill:#1f77b4;\"/>\n   </g>\n   <g id=\"patch_10\">\n    <path clip-path=\"url(#p913be83e71)\" d=\"M 101.647552 57458.677463 \nL 109.451748 57458.677463 \nL 109.451748 197.524226 \nL 101.647552 197.524226 \nz\n\" style=\"fill:#1f77b4;\"/>\n   </g>\n   <g id=\"patch_11\">\n    <path clip-path=\"url(#p913be83e71)\" d=\"M 109.451748 57458.677463 \nL 117.255944 57458.677463 \nL 117.255944 174.74458 \nL 109.451748 174.74458 \nz\n\" style=\"fill:#1f77b4;\"/>\n   </g>\n   <g id=\"patch_12\">\n    <path clip-path=\"url(#p913be83e71)\" d=\"M 117.255944 57458.677463 \nL 125.06014 57458.677463 \nL 125.06014 214.756364 \nL 117.255944 214.756364 \nz\n\" style=\"fill:#1f77b4;\"/>\n   </g>\n   <g id=\"patch_13\">\n    <path clip-path=\"url(#p913be83e71)\" d=\"M 125.06014 57458.677463 \nL 132.864336 57458.677463 \nL 132.864336 197.524226 \nL 125.06014 197.524226 \nz\n\" style=\"fill:#1f77b4;\"/>\n   </g>\n   <g id=\"patch_14\">\n    <path clip-path=\"url(#p913be83e71)\" d=\"M 132.864336 57458.677463 \nL 140.668531 57458.677463 \nL 140.668531 214.756364 \nL 132.864336 214.756364 \nz\n\" style=\"fill:#1f77b4;\"/>\n   </g>\n   <g id=\"patch_15\">\n    <path clip-path=\"url(#p913be83e71)\" d=\"M 140.668531 57458.677463 \nL 148.472727 57458.677463 \nL 148.472727 214.756364 \nL 140.668531 214.756364 \nz\n\" style=\"fill:#1f77b4;\"/>\n   </g>\n   <g id=\"patch_16\">\n    <path clip-path=\"url(#p913be83e71)\" d=\"M 148.472727 57458.677463 \nL 156.276923 57458.677463 \nL 156.276923 57458.677463 \nL 148.472727 57458.677463 \nz\n\" style=\"fill:#1f77b4;\"/>\n   </g>\n   <g id=\"patch_17\">\n    <path clip-path=\"url(#p913be83e71)\" d=\"M 156.276923 57458.677463 \nL 164.081119 57458.677463 \nL 164.081119 57458.677463 \nL 156.276923 57458.677463 \nz\n\" style=\"fill:#1f77b4;\"/>\n   </g>\n   <g id=\"patch_18\">\n    <path clip-path=\"url(#p913be83e71)\" d=\"M 164.081119 57458.677463 \nL 171.885315 57458.677463 \nL 171.885315 214.756364 \nL 164.081119 214.756364 \nz\n\" style=\"fill:#1f77b4;\"/>\n   </g>\n   <g id=\"patch_19\">\n    <path clip-path=\"url(#p913be83e71)\" d=\"M 171.885315 57458.677463 \nL 179.68951 57458.677463 \nL 179.68951 57458.677463 \nL 171.885315 57458.677463 \nz\n\" style=\"fill:#1f77b4;\"/>\n   </g>\n   <g id=\"patch_20\">\n    <path clip-path=\"url(#p913be83e71)\" d=\"M 179.68951 57458.677463 \nL 187.493706 57458.677463 \nL 187.493706 57458.677463 \nL 179.68951 57458.677463 \nz\n\" style=\"fill:#1f77b4;\"/>\n   </g>\n   <g id=\"patch_21\">\n    <path clip-path=\"url(#p913be83e71)\" d=\"M 187.493706 57458.677463 \nL 195.297902 57458.677463 \nL 195.297902 57458.677463 \nL 187.493706 57458.677463 \nz\n\" style=\"fill:#1f77b4;\"/>\n   </g>\n   <g id=\"patch_22\">\n    <path clip-path=\"url(#p913be83e71)\" d=\"M 195.297902 57458.677463 \nL 203.102098 57458.677463 \nL 203.102098 214.756364 \nL 195.297902 214.756364 \nz\n\" style=\"fill:#1f77b4;\"/>\n   </g>\n   <g id=\"patch_23\">\n    <path clip-path=\"url(#p913be83e71)\" d=\"M 203.102098 57458.677463 \nL 210.906294 57458.677463 \nL 210.906294 57458.677463 \nL 203.102098 57458.677463 \nz\n\" style=\"fill:#1f77b4;\"/>\n   </g>\n   <g id=\"patch_24\">\n    <path clip-path=\"url(#p913be83e71)\" d=\"M 210.906294 57458.677463 \nL 218.71049 57458.677463 \nL 218.71049 57458.677463 \nL 210.906294 57458.677463 \nz\n\" style=\"fill:#1f77b4;\"/>\n   </g>\n   <g id=\"patch_25\">\n    <path clip-path=\"url(#p913be83e71)\" d=\"M 218.71049 57458.677463 \nL 226.514685 57458.677463 \nL 226.514685 57458.677463 \nL 218.71049 57458.677463 \nz\n\" style=\"fill:#1f77b4;\"/>\n   </g>\n   <g id=\"patch_26\">\n    <path clip-path=\"url(#p913be83e71)\" d=\"M 226.514685 57458.677463 \nL 234.318881 57458.677463 \nL 234.318881 57458.677463 \nL 226.514685 57458.677463 \nz\n\" style=\"fill:#1f77b4;\"/>\n   </g>\n   <g id=\"patch_27\">\n    <path clip-path=\"url(#p913be83e71)\" d=\"M 234.318881 57458.677463 \nL 242.123077 57458.677463 \nL 242.123077 57458.677463 \nL 234.318881 57458.677463 \nz\n\" style=\"fill:#1f77b4;\"/>\n   </g>\n   <g id=\"patch_28\">\n    <path clip-path=\"url(#p913be83e71)\" d=\"M 242.123077 57458.677463 \nL 249.927273 57458.677463 \nL 249.927273 57458.677463 \nL 242.123077 57458.677463 \nz\n\" style=\"fill:#1f77b4;\"/>\n   </g>\n   <g id=\"patch_29\">\n    <path clip-path=\"url(#p913be83e71)\" d=\"M 249.927273 57458.677463 \nL 257.731469 57458.677463 \nL 257.731469 57458.677463 \nL 249.927273 57458.677463 \nz\n\" style=\"fill:#1f77b4;\"/>\n   </g>\n   <g id=\"patch_30\">\n    <path clip-path=\"url(#p913be83e71)\" d=\"M 257.731469 57458.677463 \nL 265.535664 57458.677463 \nL 265.535664 57458.677463 \nL 257.731469 57458.677463 \nz\n\" style=\"fill:#1f77b4;\"/>\n   </g>\n   <g id=\"patch_31\">\n    <path clip-path=\"url(#p913be83e71)\" d=\"M 265.535664 57458.677463 \nL 273.33986 57458.677463 \nL 273.33986 57458.677463 \nL 265.535664 57458.677463 \nz\n\" style=\"fill:#1f77b4;\"/>\n   </g>\n   <g id=\"patch_32\">\n    <path clip-path=\"url(#p913be83e71)\" d=\"M 273.33986 57458.677463 \nL 281.144056 57458.677463 \nL 281.144056 214.756364 \nL 273.33986 214.756364 \nz\n\" style=\"fill:#1f77b4;\"/>\n   </g>\n   <g id=\"patch_33\">\n    <path clip-path=\"url(#p913be83e71)\" d=\"M 281.144056 57458.677463 \nL 288.948252 57458.677463 \nL 288.948252 57458.677463 \nL 281.144056 57458.677463 \nz\n\" style=\"fill:#1f77b4;\"/>\n   </g>\n   <g id=\"patch_34\">\n    <path clip-path=\"url(#p913be83e71)\" d=\"M 288.948252 57458.677463 \nL 296.752448 57458.677463 \nL 296.752448 57458.677463 \nL 288.948252 57458.677463 \nz\n\" style=\"fill:#1f77b4;\"/>\n   </g>\n   <g id=\"patch_35\">\n    <path clip-path=\"url(#p913be83e71)\" d=\"M 296.752448 57458.677463 \nL 304.556643 57458.677463 \nL 304.556643 57458.677463 \nL 296.752448 57458.677463 \nz\n\" style=\"fill:#1f77b4;\"/>\n   </g>\n   <g id=\"patch_36\">\n    <path clip-path=\"url(#p913be83e71)\" d=\"M 304.556643 57458.677463 \nL 312.360839 57458.677463 \nL 312.360839 57458.677463 \nL 304.556643 57458.677463 \nz\n\" style=\"fill:#1f77b4;\"/>\n   </g>\n   <g id=\"patch_37\">\n    <path clip-path=\"url(#p913be83e71)\" d=\"M 312.360839 57458.677463 \nL 320.165035 57458.677463 \nL 320.165035 57458.677463 \nL 312.360839 57458.677463 \nz\n\" style=\"fill:#1f77b4;\"/>\n   </g>\n   <g id=\"patch_38\">\n    <path clip-path=\"url(#p913be83e71)\" d=\"M 320.165035 57458.677463 \nL 327.969231 57458.677463 \nL 327.969231 57458.677463 \nL 320.165035 57458.677463 \nz\n\" style=\"fill:#1f77b4;\"/>\n   </g>\n   <g id=\"patch_39\">\n    <path clip-path=\"url(#p913be83e71)\" d=\"M 327.969231 57458.677463 \nL 335.773427 57458.677463 \nL 335.773427 57458.677463 \nL 327.969231 57458.677463 \nz\n\" style=\"fill:#1f77b4;\"/>\n   </g>\n   <g id=\"patch_40\">\n    <path clip-path=\"url(#p913be83e71)\" d=\"M 335.773427 57458.677463 \nL 343.577622 57458.677463 \nL 343.577622 57458.677463 \nL 335.773427 57458.677463 \nz\n\" style=\"fill:#1f77b4;\"/>\n   </g>\n   <g id=\"patch_41\">\n    <path clip-path=\"url(#p913be83e71)\" d=\"M 343.577622 57458.677463 \nL 351.381818 57458.677463 \nL 351.381818 57458.677463 \nL 343.577622 57458.677463 \nz\n\" style=\"fill:#1f77b4;\"/>\n   </g>\n   <g id=\"matplotlib.axis_1\">\n    <g id=\"xtick_1\">\n     <g id=\"line2d_1\">\n      <path clip-path=\"url(#p913be83e71)\" d=\"M 47.018182 224.64 \nL 47.018182 7.2 \n\" style=\"fill:none;stroke:#b0b0b0;stroke-linecap:square;stroke-width:0.8;\"/>\n     </g>\n     <g id=\"line2d_2\">\n      <defs>\n       <path d=\"M 0 0 \nL 0 3.5 \n\" id=\"mc94ba3f503\" style=\"stroke:#000000;stroke-width:0.8;\"/>\n      </defs>\n      <g>\n       <use style=\"stroke:#000000;stroke-width:0.8;\" x=\"47.018182\" xlink:href=\"#mc94ba3f503\" y=\"224.64\"/>\n      </g>\n     </g>\n     <g id=\"text_1\">\n      <!-- 0 -->\n      <g transform=\"translate(43.836932 239.238437)scale(0.1 -0.1)\">\n       <defs>\n        <path d=\"M 2034 4250 \nQ 1547 4250 1301 3770 \nQ 1056 3291 1056 2328 \nQ 1056 1369 1301 889 \nQ 1547 409 2034 409 \nQ 2525 409 2770 889 \nQ 3016 1369 3016 2328 \nQ 3016 3291 2770 3770 \nQ 2525 4250 2034 4250 \nz\nM 2034 4750 \nQ 2819 4750 3233 4129 \nQ 3647 3509 3647 2328 \nQ 3647 1150 3233 529 \nQ 2819 -91 2034 -91 \nQ 1250 -91 836 529 \nQ 422 1150 422 2328 \nQ 422 3509 836 4129 \nQ 1250 4750 2034 4750 \nz\n\" id=\"DejaVuSans-30\" transform=\"scale(0.015625)\"/>\n       </defs>\n       <use xlink:href=\"#DejaVuSans-30\"/>\n      </g>\n     </g>\n    </g>\n    <g id=\"xtick_2\">\n     <g id=\"line2d_3\">\n      <path clip-path=\"url(#p913be83e71)\" d=\"M 86.039161 224.64 \nL 86.039161 7.2 \n\" style=\"fill:none;stroke:#b0b0b0;stroke-linecap:square;stroke-width:0.8;\"/>\n     </g>\n     <g id=\"line2d_4\">\n      <g>\n       <use style=\"stroke:#000000;stroke-width:0.8;\" x=\"86.039161\" xlink:href=\"#mc94ba3f503\" y=\"224.64\"/>\n      </g>\n     </g>\n     <g id=\"text_2\">\n      <!-- 1000 -->\n      <g transform=\"translate(73.314161 239.238437)scale(0.1 -0.1)\">\n       <defs>\n        <path d=\"M 794 531 \nL 1825 531 \nL 1825 4091 \nL 703 3866 \nL 703 4441 \nL 1819 4666 \nL 2450 4666 \nL 2450 531 \nL 3481 531 \nL 3481 0 \nL 794 0 \nL 794 531 \nz\n\" id=\"DejaVuSans-31\" transform=\"scale(0.015625)\"/>\n       </defs>\n       <use xlink:href=\"#DejaVuSans-31\"/>\n       <use x=\"63.623047\" xlink:href=\"#DejaVuSans-30\"/>\n       <use x=\"127.246094\" xlink:href=\"#DejaVuSans-30\"/>\n       <use x=\"190.869141\" xlink:href=\"#DejaVuSans-30\"/>\n      </g>\n     </g>\n    </g>\n    <g id=\"xtick_3\">\n     <g id=\"line2d_5\">\n      <path clip-path=\"url(#p913be83e71)\" d=\"M 125.06014 224.64 \nL 125.06014 7.2 \n\" style=\"fill:none;stroke:#b0b0b0;stroke-linecap:square;stroke-width:0.8;\"/>\n     </g>\n     <g id=\"line2d_6\">\n      <g>\n       <use style=\"stroke:#000000;stroke-width:0.8;\" x=\"125.06014\" xlink:href=\"#mc94ba3f503\" y=\"224.64\"/>\n      </g>\n     </g>\n     <g id=\"text_3\">\n      <!-- 2000 -->\n      <g transform=\"translate(112.33514 239.238437)scale(0.1 -0.1)\">\n       <defs>\n        <path d=\"M 1228 531 \nL 3431 531 \nL 3431 0 \nL 469 0 \nL 469 531 \nQ 828 903 1448 1529 \nQ 2069 2156 2228 2338 \nQ 2531 2678 2651 2914 \nQ 2772 3150 2772 3378 \nQ 2772 3750 2511 3984 \nQ 2250 4219 1831 4219 \nQ 1534 4219 1204 4116 \nQ 875 4013 500 3803 \nL 500 4441 \nQ 881 4594 1212 4672 \nQ 1544 4750 1819 4750 \nQ 2544 4750 2975 4387 \nQ 3406 4025 3406 3419 \nQ 3406 3131 3298 2873 \nQ 3191 2616 2906 2266 \nQ 2828 2175 2409 1742 \nQ 1991 1309 1228 531 \nz\n\" id=\"DejaVuSans-32\" transform=\"scale(0.015625)\"/>\n       </defs>\n       <use xlink:href=\"#DejaVuSans-32\"/>\n       <use x=\"63.623047\" xlink:href=\"#DejaVuSans-30\"/>\n       <use x=\"127.246094\" xlink:href=\"#DejaVuSans-30\"/>\n       <use x=\"190.869141\" xlink:href=\"#DejaVuSans-30\"/>\n      </g>\n     </g>\n    </g>\n    <g id=\"xtick_4\">\n     <g id=\"line2d_7\">\n      <path clip-path=\"url(#p913be83e71)\" d=\"M 164.081119 224.64 \nL 164.081119 7.2 \n\" style=\"fill:none;stroke:#b0b0b0;stroke-linecap:square;stroke-width:0.8;\"/>\n     </g>\n     <g id=\"line2d_8\">\n      <g>\n       <use style=\"stroke:#000000;stroke-width:0.8;\" x=\"164.081119\" xlink:href=\"#mc94ba3f503\" y=\"224.64\"/>\n      </g>\n     </g>\n     <g id=\"text_4\">\n      <!-- 3000 -->\n      <g transform=\"translate(151.356119 239.238437)scale(0.1 -0.1)\">\n       <defs>\n        <path d=\"M 2597 2516 \nQ 3050 2419 3304 2112 \nQ 3559 1806 3559 1356 \nQ 3559 666 3084 287 \nQ 2609 -91 1734 -91 \nQ 1441 -91 1130 -33 \nQ 819 25 488 141 \nL 488 750 \nQ 750 597 1062 519 \nQ 1375 441 1716 441 \nQ 2309 441 2620 675 \nQ 2931 909 2931 1356 \nQ 2931 1769 2642 2001 \nQ 2353 2234 1838 2234 \nL 1294 2234 \nL 1294 2753 \nL 1863 2753 \nQ 2328 2753 2575 2939 \nQ 2822 3125 2822 3475 \nQ 2822 3834 2567 4026 \nQ 2313 4219 1838 4219 \nQ 1578 4219 1281 4162 \nQ 984 4106 628 3988 \nL 628 4550 \nQ 988 4650 1302 4700 \nQ 1616 4750 1894 4750 \nQ 2613 4750 3031 4423 \nQ 3450 4097 3450 3541 \nQ 3450 3153 3228 2886 \nQ 3006 2619 2597 2516 \nz\n\" id=\"DejaVuSans-33\" transform=\"scale(0.015625)\"/>\n       </defs>\n       <use xlink:href=\"#DejaVuSans-33\"/>\n       <use x=\"63.623047\" xlink:href=\"#DejaVuSans-30\"/>\n       <use x=\"127.246094\" xlink:href=\"#DejaVuSans-30\"/>\n       <use x=\"190.869141\" xlink:href=\"#DejaVuSans-30\"/>\n      </g>\n     </g>\n    </g>\n    <g id=\"xtick_5\">\n     <g id=\"line2d_9\">\n      <path clip-path=\"url(#p913be83e71)\" d=\"M 203.102098 224.64 \nL 203.102098 7.2 \n\" style=\"fill:none;stroke:#b0b0b0;stroke-linecap:square;stroke-width:0.8;\"/>\n     </g>\n     <g id=\"line2d_10\">\n      <g>\n       <use style=\"stroke:#000000;stroke-width:0.8;\" x=\"203.102098\" xlink:href=\"#mc94ba3f503\" y=\"224.64\"/>\n      </g>\n     </g>\n     <g id=\"text_5\">\n      <!-- 4000 -->\n      <g transform=\"translate(190.377098 239.238437)scale(0.1 -0.1)\">\n       <defs>\n        <path d=\"M 2419 4116 \nL 825 1625 \nL 2419 1625 \nL 2419 4116 \nz\nM 2253 4666 \nL 3047 4666 \nL 3047 1625 \nL 3713 1625 \nL 3713 1100 \nL 3047 1100 \nL 3047 0 \nL 2419 0 \nL 2419 1100 \nL 313 1100 \nL 313 1709 \nL 2253 4666 \nz\n\" id=\"DejaVuSans-34\" transform=\"scale(0.015625)\"/>\n       </defs>\n       <use xlink:href=\"#DejaVuSans-34\"/>\n       <use x=\"63.623047\" xlink:href=\"#DejaVuSans-30\"/>\n       <use x=\"127.246094\" xlink:href=\"#DejaVuSans-30\"/>\n       <use x=\"190.869141\" xlink:href=\"#DejaVuSans-30\"/>\n      </g>\n     </g>\n    </g>\n    <g id=\"xtick_6\">\n     <g id=\"line2d_11\">\n      <path clip-path=\"url(#p913be83e71)\" d=\"M 242.123077 224.64 \nL 242.123077 7.2 \n\" style=\"fill:none;stroke:#b0b0b0;stroke-linecap:square;stroke-width:0.8;\"/>\n     </g>\n     <g id=\"line2d_12\">\n      <g>\n       <use style=\"stroke:#000000;stroke-width:0.8;\" x=\"242.123077\" xlink:href=\"#mc94ba3f503\" y=\"224.64\"/>\n      </g>\n     </g>\n     <g id=\"text_6\">\n      <!-- 5000 -->\n      <g transform=\"translate(229.398077 239.238437)scale(0.1 -0.1)\">\n       <defs>\n        <path d=\"M 691 4666 \nL 3169 4666 \nL 3169 4134 \nL 1269 4134 \nL 1269 2991 \nQ 1406 3038 1543 3061 \nQ 1681 3084 1819 3084 \nQ 2600 3084 3056 2656 \nQ 3513 2228 3513 1497 \nQ 3513 744 3044 326 \nQ 2575 -91 1722 -91 \nQ 1428 -91 1123 -41 \nQ 819 9 494 109 \nL 494 744 \nQ 775 591 1075 516 \nQ 1375 441 1709 441 \nQ 2250 441 2565 725 \nQ 2881 1009 2881 1497 \nQ 2881 1984 2565 2268 \nQ 2250 2553 1709 2553 \nQ 1456 2553 1204 2497 \nQ 953 2441 691 2322 \nL 691 4666 \nz\n\" id=\"DejaVuSans-35\" transform=\"scale(0.015625)\"/>\n       </defs>\n       <use xlink:href=\"#DejaVuSans-35\"/>\n       <use x=\"63.623047\" xlink:href=\"#DejaVuSans-30\"/>\n       <use x=\"127.246094\" xlink:href=\"#DejaVuSans-30\"/>\n       <use x=\"190.869141\" xlink:href=\"#DejaVuSans-30\"/>\n      </g>\n     </g>\n    </g>\n    <g id=\"xtick_7\">\n     <g id=\"line2d_13\">\n      <path clip-path=\"url(#p913be83e71)\" d=\"M 281.144056 224.64 \nL 281.144056 7.2 \n\" style=\"fill:none;stroke:#b0b0b0;stroke-linecap:square;stroke-width:0.8;\"/>\n     </g>\n     <g id=\"line2d_14\">\n      <g>\n       <use style=\"stroke:#000000;stroke-width:0.8;\" x=\"281.144056\" xlink:href=\"#mc94ba3f503\" y=\"224.64\"/>\n      </g>\n     </g>\n     <g id=\"text_7\">\n      <!-- 6000 -->\n      <g transform=\"translate(268.419056 239.238437)scale(0.1 -0.1)\">\n       <defs>\n        <path d=\"M 2113 2584 \nQ 1688 2584 1439 2293 \nQ 1191 2003 1191 1497 \nQ 1191 994 1439 701 \nQ 1688 409 2113 409 \nQ 2538 409 2786 701 \nQ 3034 994 3034 1497 \nQ 3034 2003 2786 2293 \nQ 2538 2584 2113 2584 \nz\nM 3366 4563 \nL 3366 3988 \nQ 3128 4100 2886 4159 \nQ 2644 4219 2406 4219 \nQ 1781 4219 1451 3797 \nQ 1122 3375 1075 2522 \nQ 1259 2794 1537 2939 \nQ 1816 3084 2150 3084 \nQ 2853 3084 3261 2657 \nQ 3669 2231 3669 1497 \nQ 3669 778 3244 343 \nQ 2819 -91 2113 -91 \nQ 1303 -91 875 529 \nQ 447 1150 447 2328 \nQ 447 3434 972 4092 \nQ 1497 4750 2381 4750 \nQ 2619 4750 2861 4703 \nQ 3103 4656 3366 4563 \nz\n\" id=\"DejaVuSans-36\" transform=\"scale(0.015625)\"/>\n       </defs>\n       <use xlink:href=\"#DejaVuSans-36\"/>\n       <use x=\"63.623047\" xlink:href=\"#DejaVuSans-30\"/>\n       <use x=\"127.246094\" xlink:href=\"#DejaVuSans-30\"/>\n       <use x=\"190.869141\" xlink:href=\"#DejaVuSans-30\"/>\n      </g>\n     </g>\n    </g>\n    <g id=\"xtick_8\">\n     <g id=\"line2d_15\">\n      <path clip-path=\"url(#p913be83e71)\" d=\"M 320.165035 224.64 \nL 320.165035 7.2 \n\" style=\"fill:none;stroke:#b0b0b0;stroke-linecap:square;stroke-width:0.8;\"/>\n     </g>\n     <g id=\"line2d_16\">\n      <g>\n       <use style=\"stroke:#000000;stroke-width:0.8;\" x=\"320.165035\" xlink:href=\"#mc94ba3f503\" y=\"224.64\"/>\n      </g>\n     </g>\n     <g id=\"text_8\">\n      <!-- 7000 -->\n      <g transform=\"translate(307.440035 239.238437)scale(0.1 -0.1)\">\n       <defs>\n        <path d=\"M 525 4666 \nL 3525 4666 \nL 3525 4397 \nL 1831 0 \nL 1172 0 \nL 2766 4134 \nL 525 4134 \nL 525 4666 \nz\n\" id=\"DejaVuSans-37\" transform=\"scale(0.015625)\"/>\n       </defs>\n       <use xlink:href=\"#DejaVuSans-37\"/>\n       <use x=\"63.623047\" xlink:href=\"#DejaVuSans-30\"/>\n       <use x=\"127.246094\" xlink:href=\"#DejaVuSans-30\"/>\n       <use x=\"190.869141\" xlink:href=\"#DejaVuSans-30\"/>\n      </g>\n     </g>\n    </g>\n    <g id=\"xtick_9\">\n     <g id=\"line2d_17\">\n      <path clip-path=\"url(#p913be83e71)\" d=\"M 359.186014 224.64 \nL 359.186014 7.2 \n\" style=\"fill:none;stroke:#b0b0b0;stroke-linecap:square;stroke-width:0.8;\"/>\n     </g>\n     <g id=\"line2d_18\">\n      <g>\n       <use style=\"stroke:#000000;stroke-width:0.8;\" x=\"359.186014\" xlink:href=\"#mc94ba3f503\" y=\"224.64\"/>\n      </g>\n     </g>\n     <g id=\"text_9\">\n      <!-- 8000 -->\n      <g transform=\"translate(346.461014 239.238437)scale(0.1 -0.1)\">\n       <defs>\n        <path d=\"M 2034 2216 \nQ 1584 2216 1326 1975 \nQ 1069 1734 1069 1313 \nQ 1069 891 1326 650 \nQ 1584 409 2034 409 \nQ 2484 409 2743 651 \nQ 3003 894 3003 1313 \nQ 3003 1734 2745 1975 \nQ 2488 2216 2034 2216 \nz\nM 1403 2484 \nQ 997 2584 770 2862 \nQ 544 3141 544 3541 \nQ 544 4100 942 4425 \nQ 1341 4750 2034 4750 \nQ 2731 4750 3128 4425 \nQ 3525 4100 3525 3541 \nQ 3525 3141 3298 2862 \nQ 3072 2584 2669 2484 \nQ 3125 2378 3379 2068 \nQ 3634 1759 3634 1313 \nQ 3634 634 3220 271 \nQ 2806 -91 2034 -91 \nQ 1263 -91 848 271 \nQ 434 634 434 1313 \nQ 434 1759 690 2068 \nQ 947 2378 1403 2484 \nz\nM 1172 3481 \nQ 1172 3119 1398 2916 \nQ 1625 2713 2034 2713 \nQ 2441 2713 2670 2916 \nQ 2900 3119 2900 3481 \nQ 2900 3844 2670 4047 \nQ 2441 4250 2034 4250 \nQ 1625 4250 1398 4047 \nQ 1172 3844 1172 3481 \nz\n\" id=\"DejaVuSans-38\" transform=\"scale(0.015625)\"/>\n       </defs>\n       <use xlink:href=\"#DejaVuSans-38\"/>\n       <use x=\"63.623047\" xlink:href=\"#DejaVuSans-30\"/>\n       <use x=\"127.246094\" xlink:href=\"#DejaVuSans-30\"/>\n       <use x=\"190.869141\" xlink:href=\"#DejaVuSans-30\"/>\n      </g>\n     </g>\n    </g>\n   </g>\n   <g id=\"matplotlib.axis_2\">\n    <g id=\"ytick_1\">\n     <g id=\"line2d_19\">\n      <path clip-path=\"url(#p913be83e71)\" d=\"M 31.8 214.756364 \nL 366.6 214.756364 \n\" style=\"fill:none;stroke:#b0b0b0;stroke-linecap:square;stroke-width:0.8;\"/>\n     </g>\n     <g id=\"line2d_20\">\n      <defs>\n       <path d=\"M 0 0 \nL -3.5 0 \n\" id=\"m109f34427a\" style=\"stroke:#000000;stroke-width:0.8;\"/>\n      </defs>\n      <g>\n       <use style=\"stroke:#000000;stroke-width:0.8;\" x=\"31.8\" xlink:href=\"#m109f34427a\" y=\"214.756364\"/>\n      </g>\n     </g>\n     <g id=\"text_10\">\n      <!-- $\\mathdefault{10^{0}}$ -->\n      <g transform=\"translate(7.2 218.555582)scale(0.1 -0.1)\">\n       <use transform=\"translate(0 0.765625)\" xlink:href=\"#DejaVuSans-31\"/>\n       <use transform=\"translate(63.623047 0.765625)\" xlink:href=\"#DejaVuSans-30\"/>\n       <use transform=\"translate(128.203125 39.046875)scale(0.7)\" xlink:href=\"#DejaVuSans-30\"/>\n      </g>\n     </g>\n    </g>\n    <g id=\"ytick_2\">\n     <g id=\"line2d_21\">\n      <path clip-path=\"url(#p913be83e71)\" d=\"M 31.8 157.512443 \nL 366.6 157.512443 \n\" style=\"fill:none;stroke:#b0b0b0;stroke-linecap:square;stroke-width:0.8;\"/>\n     </g>\n     <g id=\"line2d_22\">\n      <g>\n       <use style=\"stroke:#000000;stroke-width:0.8;\" x=\"31.8\" xlink:href=\"#m109f34427a\" y=\"157.512443\"/>\n      </g>\n     </g>\n     <g id=\"text_11\">\n      <!-- $\\mathdefault{10^{1}}$ -->\n      <g transform=\"translate(7.2 161.311661)scale(0.1 -0.1)\">\n       <use transform=\"translate(0 0.684375)\" xlink:href=\"#DejaVuSans-31\"/>\n       <use transform=\"translate(63.623047 0.684375)\" xlink:href=\"#DejaVuSans-30\"/>\n       <use transform=\"translate(128.203125 38.965625)scale(0.7)\" xlink:href=\"#DejaVuSans-31\"/>\n      </g>\n     </g>\n    </g>\n    <g id=\"ytick_3\">\n     <g id=\"line2d_23\">\n      <path clip-path=\"url(#p913be83e71)\" d=\"M 31.8 100.268521 \nL 366.6 100.268521 \n\" style=\"fill:none;stroke:#b0b0b0;stroke-linecap:square;stroke-width:0.8;\"/>\n     </g>\n     <g id=\"line2d_24\">\n      <g>\n       <use style=\"stroke:#000000;stroke-width:0.8;\" x=\"31.8\" xlink:href=\"#m109f34427a\" y=\"100.268521\"/>\n      </g>\n     </g>\n     <g id=\"text_12\">\n      <!-- $\\mathdefault{10^{2}}$ -->\n      <g transform=\"translate(7.2 104.06774)scale(0.1 -0.1)\">\n       <use transform=\"translate(0 0.765625)\" xlink:href=\"#DejaVuSans-31\"/>\n       <use transform=\"translate(63.623047 0.765625)\" xlink:href=\"#DejaVuSans-30\"/>\n       <use transform=\"translate(128.203125 39.046875)scale(0.7)\" xlink:href=\"#DejaVuSans-32\"/>\n      </g>\n     </g>\n    </g>\n    <g id=\"ytick_4\">\n     <g id=\"line2d_25\">\n      <path clip-path=\"url(#p913be83e71)\" d=\"M 31.8 43.0246 \nL 366.6 43.0246 \n\" style=\"fill:none;stroke:#b0b0b0;stroke-linecap:square;stroke-width:0.8;\"/>\n     </g>\n     <g id=\"line2d_26\">\n      <g>\n       <use style=\"stroke:#000000;stroke-width:0.8;\" x=\"31.8\" xlink:href=\"#m109f34427a\" y=\"43.0246\"/>\n      </g>\n     </g>\n     <g id=\"text_13\">\n      <!-- $\\mathdefault{10^{3}}$ -->\n      <g transform=\"translate(7.2 46.823819)scale(0.1 -0.1)\">\n       <use transform=\"translate(0 0.765625)\" xlink:href=\"#DejaVuSans-31\"/>\n       <use transform=\"translate(63.623047 0.765625)\" xlink:href=\"#DejaVuSans-30\"/>\n       <use transform=\"translate(128.203125 39.046875)scale(0.7)\" xlink:href=\"#DejaVuSans-33\"/>\n      </g>\n     </g>\n    </g>\n    <g id=\"ytick_5\">\n     <g id=\"line2d_27\">\n      <defs>\n       <path d=\"M 0 0 \nL -2 0 \n\" id=\"mddbc2f0723\" style=\"stroke:#000000;stroke-width:0.6;\"/>\n      </defs>\n      <g>\n       <use style=\"stroke:#000000;stroke-width:0.6;\" x=\"31.8\" xlink:href=\"#mddbc2f0723\" y=\"223.623559\"/>\n      </g>\n     </g>\n    </g>\n    <g id=\"ytick_6\">\n     <g id=\"line2d_28\">\n      <g>\n       <use style=\"stroke:#000000;stroke-width:0.6;\" x=\"31.8\" xlink:href=\"#mddbc2f0723\" y=\"220.303873\"/>\n      </g>\n     </g>\n    </g>\n    <g id=\"ytick_7\">\n     <g id=\"line2d_29\">\n      <g>\n       <use style=\"stroke:#000000;stroke-width:0.6;\" x=\"31.8\" xlink:href=\"#mddbc2f0723\" y=\"217.375702\"/>\n      </g>\n     </g>\n    </g>\n    <g id=\"ytick_8\">\n     <g id=\"line2d_30\">\n      <g>\n       <use style=\"stroke:#000000;stroke-width:0.6;\" x=\"31.8\" xlink:href=\"#mddbc2f0723\" y=\"197.524226\"/>\n      </g>\n     </g>\n    </g>\n    <g id=\"ytick_9\">\n     <g id=\"line2d_31\">\n      <g>\n       <use style=\"stroke:#000000;stroke-width:0.6;\" x=\"31.8\" xlink:href=\"#mddbc2f0723\" y=\"187.444072\"/>\n      </g>\n     </g>\n    </g>\n    <g id=\"ytick_10\">\n     <g id=\"line2d_32\">\n      <g>\n       <use style=\"stroke:#000000;stroke-width:0.6;\" x=\"31.8\" xlink:href=\"#mddbc2f0723\" y=\"180.292089\"/>\n      </g>\n     </g>\n    </g>\n    <g id=\"ytick_11\">\n     <g id=\"line2d_33\">\n      <g>\n       <use style=\"stroke:#000000;stroke-width:0.6;\" x=\"31.8\" xlink:href=\"#mddbc2f0723\" y=\"174.74458\"/>\n      </g>\n     </g>\n    </g>\n    <g id=\"ytick_12\">\n     <g id=\"line2d_34\">\n      <g>\n       <use style=\"stroke:#000000;stroke-width:0.6;\" x=\"31.8\" xlink:href=\"#mddbc2f0723\" y=\"170.211935\"/>\n      </g>\n     </g>\n    </g>\n    <g id=\"ytick_13\">\n     <g id=\"line2d_35\">\n      <g>\n       <use style=\"stroke:#000000;stroke-width:0.6;\" x=\"31.8\" xlink:href=\"#mddbc2f0723\" y=\"166.379638\"/>\n      </g>\n     </g>\n    </g>\n    <g id=\"ytick_14\">\n     <g id=\"line2d_36\">\n      <g>\n       <use style=\"stroke:#000000;stroke-width:0.6;\" x=\"31.8\" xlink:href=\"#mddbc2f0723\" y=\"163.059952\"/>\n      </g>\n     </g>\n    </g>\n    <g id=\"ytick_15\">\n     <g id=\"line2d_37\">\n      <g>\n       <use style=\"stroke:#000000;stroke-width:0.6;\" x=\"31.8\" xlink:href=\"#mddbc2f0723\" y=\"160.131781\"/>\n      </g>\n     </g>\n    </g>\n    <g id=\"ytick_16\">\n     <g id=\"line2d_38\">\n      <g>\n       <use style=\"stroke:#000000;stroke-width:0.6;\" x=\"31.8\" xlink:href=\"#mddbc2f0723\" y=\"140.280305\"/>\n      </g>\n     </g>\n    </g>\n    <g id=\"ytick_17\">\n     <g id=\"line2d_39\">\n      <g>\n       <use style=\"stroke:#000000;stroke-width:0.6;\" x=\"31.8\" xlink:href=\"#mddbc2f0723\" y=\"130.200151\"/>\n      </g>\n     </g>\n    </g>\n    <g id=\"ytick_18\">\n     <g id=\"line2d_40\">\n      <g>\n       <use style=\"stroke:#000000;stroke-width:0.6;\" x=\"31.8\" xlink:href=\"#mddbc2f0723\" y=\"123.048168\"/>\n      </g>\n     </g>\n    </g>\n    <g id=\"ytick_19\">\n     <g id=\"line2d_41\">\n      <g>\n       <use style=\"stroke:#000000;stroke-width:0.6;\" x=\"31.8\" xlink:href=\"#mddbc2f0723\" y=\"117.500659\"/>\n      </g>\n     </g>\n    </g>\n    <g id=\"ytick_20\">\n     <g id=\"line2d_42\">\n      <g>\n       <use style=\"stroke:#000000;stroke-width:0.6;\" x=\"31.8\" xlink:href=\"#mddbc2f0723\" y=\"112.968014\"/>\n      </g>\n     </g>\n    </g>\n    <g id=\"ytick_21\">\n     <g id=\"line2d_43\">\n      <g>\n       <use style=\"stroke:#000000;stroke-width:0.6;\" x=\"31.8\" xlink:href=\"#mddbc2f0723\" y=\"109.135717\"/>\n      </g>\n     </g>\n    </g>\n    <g id=\"ytick_22\">\n     <g id=\"line2d_44\">\n      <g>\n       <use style=\"stroke:#000000;stroke-width:0.6;\" x=\"31.8\" xlink:href=\"#mddbc2f0723\" y=\"105.816031\"/>\n      </g>\n     </g>\n    </g>\n    <g id=\"ytick_23\">\n     <g id=\"line2d_45\">\n      <g>\n       <use style=\"stroke:#000000;stroke-width:0.6;\" x=\"31.8\" xlink:href=\"#mddbc2f0723\" y=\"102.88786\"/>\n      </g>\n     </g>\n    </g>\n    <g id=\"ytick_24\">\n     <g id=\"line2d_46\">\n      <g>\n       <use style=\"stroke:#000000;stroke-width:0.6;\" x=\"31.8\" xlink:href=\"#mddbc2f0723\" y=\"83.036384\"/>\n      </g>\n     </g>\n    </g>\n    <g id=\"ytick_25\">\n     <g id=\"line2d_47\">\n      <g>\n       <use style=\"stroke:#000000;stroke-width:0.6;\" x=\"31.8\" xlink:href=\"#mddbc2f0723\" y=\"72.95623\"/>\n      </g>\n     </g>\n    </g>\n    <g id=\"ytick_26\">\n     <g id=\"line2d_48\">\n      <g>\n       <use style=\"stroke:#000000;stroke-width:0.6;\" x=\"31.8\" xlink:href=\"#mddbc2f0723\" y=\"65.804247\"/>\n      </g>\n     </g>\n    </g>\n    <g id=\"ytick_27\">\n     <g id=\"line2d_49\">\n      <g>\n       <use style=\"stroke:#000000;stroke-width:0.6;\" x=\"31.8\" xlink:href=\"#mddbc2f0723\" y=\"60.256738\"/>\n      </g>\n     </g>\n    </g>\n    <g id=\"ytick_28\">\n     <g id=\"line2d_50\">\n      <g>\n       <use style=\"stroke:#000000;stroke-width:0.6;\" x=\"31.8\" xlink:href=\"#mddbc2f0723\" y=\"55.724093\"/>\n      </g>\n     </g>\n    </g>\n    <g id=\"ytick_29\">\n     <g id=\"line2d_51\">\n      <g>\n       <use style=\"stroke:#000000;stroke-width:0.6;\" x=\"31.8\" xlink:href=\"#mddbc2f0723\" y=\"51.891796\"/>\n      </g>\n     </g>\n    </g>\n    <g id=\"ytick_30\">\n     <g id=\"line2d_52\">\n      <g>\n       <use style=\"stroke:#000000;stroke-width:0.6;\" x=\"31.8\" xlink:href=\"#mddbc2f0723\" y=\"48.572109\"/>\n      </g>\n     </g>\n    </g>\n    <g id=\"ytick_31\">\n     <g id=\"line2d_53\">\n      <g>\n       <use style=\"stroke:#000000;stroke-width:0.6;\" x=\"31.8\" xlink:href=\"#mddbc2f0723\" y=\"45.643939\"/>\n      </g>\n     </g>\n    </g>\n    <g id=\"ytick_32\">\n     <g id=\"line2d_54\">\n      <g>\n       <use style=\"stroke:#000000;stroke-width:0.6;\" x=\"31.8\" xlink:href=\"#mddbc2f0723\" y=\"25.792463\"/>\n      </g>\n     </g>\n    </g>\n    <g id=\"ytick_33\">\n     <g id=\"line2d_55\">\n      <g>\n       <use style=\"stroke:#000000;stroke-width:0.6;\" x=\"31.8\" xlink:href=\"#mddbc2f0723\" y=\"15.712309\"/>\n      </g>\n     </g>\n    </g>\n    <g id=\"ytick_34\">\n     <g id=\"line2d_56\">\n      <g>\n       <use style=\"stroke:#000000;stroke-width:0.6;\" x=\"31.8\" xlink:href=\"#mddbc2f0723\" y=\"8.560326\"/>\n      </g>\n     </g>\n    </g>\n   </g>\n   <g id=\"patch_42\">\n    <path d=\"M 31.8 224.64 \nL 31.8 7.2 \n\" style=\"fill:none;stroke:#000000;stroke-linecap:square;stroke-linejoin:miter;stroke-width:0.8;\"/>\n   </g>\n   <g id=\"patch_43\">\n    <path d=\"M 366.6 224.64 \nL 366.6 7.2 \n\" style=\"fill:none;stroke:#000000;stroke-linecap:square;stroke-linejoin:miter;stroke-width:0.8;\"/>\n   </g>\n   <g id=\"patch_44\">\n    <path d=\"M 31.8 224.64 \nL 366.6 224.64 \n\" style=\"fill:none;stroke:#000000;stroke-linecap:square;stroke-linejoin:miter;stroke-width:0.8;\"/>\n   </g>\n   <g id=\"patch_45\">\n    <path d=\"M 31.8 7.2 \nL 366.6 7.2 \n\" style=\"fill:none;stroke:#000000;stroke-linecap:square;stroke-linejoin:miter;stroke-width:0.8;\"/>\n   </g>\n  </g>\n </g>\n <defs>\n  <clipPath id=\"p913be83e71\">\n   <rect height=\"217.44\" width=\"334.8\" x=\"31.8\" y=\"7.2\"/>\n  </clipPath>\n </defs>\n</svg>\n",
      "image/png": "[encoded data removed]"
     },
     "metadata": {
      "needs_background": "light"
     }
    }
   ],
   "source": [
    "# number of files per-repo\n",
    "df.groupby('repository').size().hist(bins=range(0, 8000, 200), log=True)"
   ]
  },
  {
   "cell_type": "code",
   "execution_count": 89,
   "metadata": {},
   "outputs": [
    {
     "output_type": "execute_result",
     "data": {
      "text/plain": [
       "repository\n",
       "guoguibing/librec                   1\n",
       "warpling/Macmoji                    1\n",
       "way-cooler/way-cooler               1\n",
       "fogleman/pt                         1\n",
       "fossasia/fossasia.org               1\n",
       "                                 ... \n",
       "tensorflow/tensorflow            2378\n",
       "getsentry/sentry                 2506\n",
       "catboost/catboost                3182\n",
       "home-assistant/home-assistant    3830\n",
       "AppScale/appscale                5933\n",
       "Length: 3145, dtype: int64"
      ]
     },
     "metadata": {},
     "execution_count": 89
    }
   ],
   "source": [
    "df.groupby('repository').size().sort_values() #.max()\n"
   ]
  },
  {
   "cell_type": "code",
   "execution_count": 90,
   "metadata": {},
   "outputs": [
    {
     "output_type": "execute_result",
     "data": {
      "text/plain": [
       "repository\n",
       "tensorflow/tensorflow    2378\n",
       "dtype: int64"
      ]
     },
     "metadata": {},
     "execution_count": 90
    }
   ],
   "source": [
    "df[df.repository == 'tensorflow/tensorflow'].groupby('repository').size()"
   ]
  },
  {
   "cell_type": "code",
   "execution_count": 91,
   "metadata": {},
   "outputs": [
    {
     "output_type": "execute_result",
     "data": {
      "text/plain": [
       "<AxesSubplot:>"
      ]
     },
     "metadata": {},
     "execution_count": 91
    },
    {
     "output_type": "display_data",
     "data": {
      "text/plain": "<Figure size 432x288 with 1 Axes>",
      "image/svg+xml": "<?xml version=\"1.0\" encoding=\"utf-8\" standalone=\"no\"?>\n<!DOCTYPE svg PUBLIC \"-//W3C//DTD SVG 1.1//EN\"\n  \"http://www.w3.org/Graphics/SVG/1.1/DTD/svg11.dtd\">\n<svg height=\"261.19625pt\" version=\"1.1\" viewBox=\"0 0 373.8 261.19625\" width=\"373.8pt\" xmlns=\"http://www.w3.org/2000/svg\" xmlns:xlink=\"http://www.w3.org/1999/xlink\">\n <metadata>\n  <rdf:RDF xmlns:cc=\"http://creativecommons.org/ns#\" xmlns:dc=\"http://purl.org/dc/elements/1.1/\" xmlns:rdf=\"http://www.w3.org/1999/02/22-rdf-syntax-ns#\">\n   <cc:Work>\n    <dc:type rdf:resource=\"http://purl.org/dc/dcmitype/StillImage\"/>\n    <dc:date>2021-08-19T14:58:31.415989</dc:date>\n    <dc:format>image/svg+xml</dc:format>\n    <dc:creator>\n     <cc:Agent>\n      <dc:title>Matplotlib v3.4.3, https://matplotlib.org/</dc:title>\n     </cc:Agent>\n    </dc:creator>\n   </cc:Work>\n  </rdf:RDF>\n </metadata>\n <defs>\n  <style type=\"text/css\">*{stroke-linecap:butt;stroke-linejoin:round;}</style>\n </defs>\n <g id=\"figure_1\">\n  <g id=\"patch_1\">\n   <path d=\"M 0 261.19625 \nL 373.8 261.19625 \nL 373.8 0 \nL 0 0 \nz\n\" style=\"fill:none;\"/>\n  </g>\n  <g id=\"axes_1\">\n   <g id=\"patch_2\">\n    <path d=\"M 31.8 224.64 \nL 366.6 224.64 \nL 366.6 7.2 \nL 31.8 7.2 \nz\n\" style=\"fill:#ffffff;\"/>\n   </g>\n   <g id=\"patch_3\">\n    <path clip-path=\"url(#p5b019a19b8)\" d=\"M 47.018182 36886.504383 \nL 62.236364 36886.504383 \nL 62.236364 17.083636 \nL 47.018182 17.083636 \nz\n\" style=\"fill:#1f77b4;\"/>\n   </g>\n   <g id=\"patch_4\">\n    <path clip-path=\"url(#p5b019a19b8)\" d=\"M 62.236364 36886.504383 \nL 77.454545 36886.504383 \nL 77.454545 93.402062 \nL 62.236364 93.402062 \nz\n\" style=\"fill:#1f77b4;\"/>\n   </g>\n   <g id=\"patch_5\">\n    <path clip-path=\"url(#p5b019a19b8)\" d=\"M 77.454545 36886.504383 \nL 92.672727 36886.504383 \nL 92.672727 120.836299 \nL 77.454545 120.836299 \nz\n\" style=\"fill:#1f77b4;\"/>\n   </g>\n   <g id=\"patch_6\">\n    <path clip-path=\"url(#p5b019a19b8)\" d=\"M 92.672727 36886.504383 \nL 107.890909 36886.504383 \nL 107.890909 142.229782 \nL 92.672727 142.229782 \nz\n\" style=\"fill:#1f77b4;\"/>\n   </g>\n   <g id=\"patch_7\">\n    <path clip-path=\"url(#p5b019a19b8)\" d=\"M 107.890909 36886.504383 \nL 123.109091 36886.504383 \nL 123.109091 153.437612 \nL 107.890909 153.437612 \nz\n\" style=\"fill:#1f77b4;\"/>\n   </g>\n   <g id=\"patch_8\">\n    <path clip-path=\"url(#p5b019a19b8)\" d=\"M 123.109091 36886.504383 \nL 138.327273 36886.504383 \nL 138.327273 173.906114 \nL 123.109091 173.906114 \nz\n\" style=\"fill:#1f77b4;\"/>\n   </g>\n   <g id=\"patch_9\">\n    <path clip-path=\"url(#p5b019a19b8)\" d=\"M 138.327273 36886.504383 \nL 153.545455 36886.504383 \nL 153.545455 167.045319 \nL 138.327273 167.045319 \nz\n\" style=\"fill:#1f77b4;\"/>\n   </g>\n   <g id=\"patch_10\">\n    <path clip-path=\"url(#p5b019a19b8)\" d=\"M 153.545455 36886.504383 \nL 168.763636 36886.504383 \nL 168.763636 183.765141 \nL 153.545455 183.765141 \nz\n\" style=\"fill:#1f77b4;\"/>\n   </g>\n   <g id=\"patch_11\">\n    <path clip-path=\"url(#p5b019a19b8)\" d=\"M 168.763636 36886.504383 \nL 183.981818 36886.504383 \nL 183.981818 189.123912 \nL 168.763636 189.123912 \nz\n\" style=\"fill:#1f77b4;\"/>\n   </g>\n   <g id=\"patch_12\">\n    <path clip-path=\"url(#p5b019a19b8)\" d=\"M 183.981818 36886.504383 \nL 199.2 36886.504383 \nL 199.2 179.762623 \nL 183.981818 179.762623 \nz\n\" style=\"fill:#1f77b4;\"/>\n   </g>\n   <g id=\"patch_13\">\n    <path clip-path=\"url(#p5b019a19b8)\" d=\"M 199.2 36886.504383 \nL 214.418182 36886.504383 \nL 214.418182 203.717067 \nL 199.2 203.717067 \nz\n\" style=\"fill:#1f77b4;\"/>\n   </g>\n   <g id=\"patch_14\">\n    <path clip-path=\"url(#p5b019a19b8)\" d=\"M 214.418182 36886.504383 \nL 229.636364 36886.504383 \nL 229.636364 214.756364 \nL 214.418182 214.756364 \nz\n\" style=\"fill:#1f77b4;\"/>\n   </g>\n   <g id=\"patch_15\">\n    <path clip-path=\"url(#p5b019a19b8)\" d=\"M 229.636364 36886.504383 \nL 244.854545 36886.504383 \nL 244.854545 203.717067 \nL 229.636364 203.717067 \nz\n\" style=\"fill:#1f77b4;\"/>\n   </g>\n   <g id=\"patch_16\">\n    <path clip-path=\"url(#p5b019a19b8)\" d=\"M 244.854545 36886.504383 \nL 260.072727 36886.504383 \nL 260.072727 197.259493 \nL 244.854545 197.259493 \nz\n\" style=\"fill:#1f77b4;\"/>\n   </g>\n   <g id=\"patch_17\">\n    <path clip-path=\"url(#p5b019a19b8)\" d=\"M 260.072727 36886.504383 \nL 275.290909 36886.504383 \nL 275.290909 36886.504383 \nL 260.072727 36886.504383 \nz\n\" style=\"fill:#1f77b4;\"/>\n   </g>\n   <g id=\"patch_18\">\n    <path clip-path=\"url(#p5b019a19b8)\" d=\"M 275.290909 36886.504383 \nL 290.509091 36886.504383 \nL 290.509091 36886.504383 \nL 275.290909 36886.504383 \nz\n\" style=\"fill:#1f77b4;\"/>\n   </g>\n   <g id=\"patch_19\">\n    <path clip-path=\"url(#p5b019a19b8)\" d=\"M 290.509091 36886.504383 \nL 305.727273 36886.504383 \nL 305.727273 214.756364 \nL 290.509091 214.756364 \nz\n\" style=\"fill:#1f77b4;\"/>\n   </g>\n   <g id=\"patch_20\">\n    <path clip-path=\"url(#p5b019a19b8)\" d=\"M 305.727273 36886.504383 \nL 320.945455 36886.504383 \nL 320.945455 197.259493 \nL 305.727273 197.259493 \nz\n\" style=\"fill:#1f77b4;\"/>\n   </g>\n   <g id=\"patch_21\">\n    <path clip-path=\"url(#p5b019a19b8)\" d=\"M 320.945455 36886.504383 \nL 336.163636 36886.504383 \nL 336.163636 178.084616 \nL 320.945455 178.084616 \nz\n\" style=\"fill:#1f77b4;\"/>\n   </g>\n   <g id=\"patch_22\">\n    <path clip-path=\"url(#p5b019a19b8)\" d=\"M 336.163636 36886.504383 \nL 351.381818 36886.504383 \nL 351.381818 36886.504383 \nL 336.163636 36886.504383 \nz\n\" style=\"fill:#1f77b4;\"/>\n   </g>\n   <g id=\"matplotlib.axis_1\">\n    <g id=\"xtick_1\">\n     <g id=\"line2d_1\">\n      <path clip-path=\"url(#p5b019a19b8)\" d=\"M 47.018182 224.64 \nL 47.018182 7.2 \n\" style=\"fill:none;stroke:#b0b0b0;stroke-linecap:square;stroke-width:0.8;\"/>\n     </g>\n     <g id=\"line2d_2\">\n      <defs>\n       <path d=\"M 0 0 \nL 0 3.5 \n\" id=\"m00c93175d3\" style=\"stroke:#000000;stroke-width:0.8;\"/>\n      </defs>\n      <g>\n       <use style=\"stroke:#000000;stroke-width:0.8;\" x=\"47.018182\" xlink:href=\"#m00c93175d3\" y=\"224.64\"/>\n      </g>\n     </g>\n     <g id=\"text_1\">\n      <!-- 0.0 -->\n      <g transform=\"translate(39.066619 239.238437)scale(0.1 -0.1)\">\n       <defs>\n        <path d=\"M 2034 4250 \nQ 1547 4250 1301 3770 \nQ 1056 3291 1056 2328 \nQ 1056 1369 1301 889 \nQ 1547 409 2034 409 \nQ 2525 409 2770 889 \nQ 3016 1369 3016 2328 \nQ 3016 3291 2770 3770 \nQ 2525 4250 2034 4250 \nz\nM 2034 4750 \nQ 2819 4750 3233 4129 \nQ 3647 3509 3647 2328 \nQ 3647 1150 3233 529 \nQ 2819 -91 2034 -91 \nQ 1250 -91 836 529 \nQ 422 1150 422 2328 \nQ 422 3509 836 4129 \nQ 1250 4750 2034 4750 \nz\n\" id=\"DejaVuSans-30\" transform=\"scale(0.015625)\"/>\n        <path d=\"M 684 794 \nL 1344 794 \nL 1344 0 \nL 684 0 \nL 684 794 \nz\n\" id=\"DejaVuSans-2e\" transform=\"scale(0.015625)\"/>\n       </defs>\n       <use xlink:href=\"#DejaVuSans-30\"/>\n       <use x=\"63.623047\" xlink:href=\"#DejaVuSans-2e\"/>\n       <use x=\"95.410156\" xlink:href=\"#DejaVuSans-30\"/>\n      </g>\n     </g>\n    </g>\n    <g id=\"xtick_2\">\n     <g id=\"line2d_3\">\n      <path clip-path=\"url(#p5b019a19b8)\" d=\"M 106.464205 224.64 \nL 106.464205 7.2 \n\" style=\"fill:none;stroke:#b0b0b0;stroke-linecap:square;stroke-width:0.8;\"/>\n     </g>\n     <g id=\"line2d_4\">\n      <g>\n       <use style=\"stroke:#000000;stroke-width:0.8;\" x=\"106.464205\" xlink:href=\"#m00c93175d3\" y=\"224.64\"/>\n      </g>\n     </g>\n     <g id=\"text_2\">\n      <!-- 0.2 -->\n      <g transform=\"translate(98.512642 239.238437)scale(0.1 -0.1)\">\n       <defs>\n        <path d=\"M 1228 531 \nL 3431 531 \nL 3431 0 \nL 469 0 \nL 469 531 \nQ 828 903 1448 1529 \nQ 2069 2156 2228 2338 \nQ 2531 2678 2651 2914 \nQ 2772 3150 2772 3378 \nQ 2772 3750 2511 3984 \nQ 2250 4219 1831 4219 \nQ 1534 4219 1204 4116 \nQ 875 4013 500 3803 \nL 500 4441 \nQ 881 4594 1212 4672 \nQ 1544 4750 1819 4750 \nQ 2544 4750 2975 4387 \nQ 3406 4025 3406 3419 \nQ 3406 3131 3298 2873 \nQ 3191 2616 2906 2266 \nQ 2828 2175 2409 1742 \nQ 1991 1309 1228 531 \nz\n\" id=\"DejaVuSans-32\" transform=\"scale(0.015625)\"/>\n       </defs>\n       <use xlink:href=\"#DejaVuSans-30\"/>\n       <use x=\"63.623047\" xlink:href=\"#DejaVuSans-2e\"/>\n       <use x=\"95.410156\" xlink:href=\"#DejaVuSans-32\"/>\n      </g>\n     </g>\n    </g>\n    <g id=\"xtick_3\">\n     <g id=\"line2d_5\">\n      <path clip-path=\"url(#p5b019a19b8)\" d=\"M 165.910227 224.64 \nL 165.910227 7.2 \n\" style=\"fill:none;stroke:#b0b0b0;stroke-linecap:square;stroke-width:0.8;\"/>\n     </g>\n     <g id=\"line2d_6\">\n      <g>\n       <use style=\"stroke:#000000;stroke-width:0.8;\" x=\"165.910227\" xlink:href=\"#m00c93175d3\" y=\"224.64\"/>\n      </g>\n     </g>\n     <g id=\"text_3\">\n      <!-- 0.4 -->\n      <g transform=\"translate(157.958665 239.238437)scale(0.1 -0.1)\">\n       <defs>\n        <path d=\"M 2419 4116 \nL 825 1625 \nL 2419 1625 \nL 2419 4116 \nz\nM 2253 4666 \nL 3047 4666 \nL 3047 1625 \nL 3713 1625 \nL 3713 1100 \nL 3047 1100 \nL 3047 0 \nL 2419 0 \nL 2419 1100 \nL 313 1100 \nL 313 1709 \nL 2253 4666 \nz\n\" id=\"DejaVuSans-34\" transform=\"scale(0.015625)\"/>\n       </defs>\n       <use xlink:href=\"#DejaVuSans-30\"/>\n       <use x=\"63.623047\" xlink:href=\"#DejaVuSans-2e\"/>\n       <use x=\"95.410156\" xlink:href=\"#DejaVuSans-34\"/>\n      </g>\n     </g>\n    </g>\n    <g id=\"xtick_4\">\n     <g id=\"line2d_7\">\n      <path clip-path=\"url(#p5b019a19b8)\" d=\"M 225.35625 224.64 \nL 225.35625 7.2 \n\" style=\"fill:none;stroke:#b0b0b0;stroke-linecap:square;stroke-width:0.8;\"/>\n     </g>\n     <g id=\"line2d_8\">\n      <g>\n       <use style=\"stroke:#000000;stroke-width:0.8;\" x=\"225.35625\" xlink:href=\"#m00c93175d3\" y=\"224.64\"/>\n      </g>\n     </g>\n     <g id=\"text_4\">\n      <!-- 0.6 -->\n      <g transform=\"translate(217.404688 239.238437)scale(0.1 -0.1)\">\n       <defs>\n        <path d=\"M 2113 2584 \nQ 1688 2584 1439 2293 \nQ 1191 2003 1191 1497 \nQ 1191 994 1439 701 \nQ 1688 409 2113 409 \nQ 2538 409 2786 701 \nQ 3034 994 3034 1497 \nQ 3034 2003 2786 2293 \nQ 2538 2584 2113 2584 \nz\nM 3366 4563 \nL 3366 3988 \nQ 3128 4100 2886 4159 \nQ 2644 4219 2406 4219 \nQ 1781 4219 1451 3797 \nQ 1122 3375 1075 2522 \nQ 1259 2794 1537 2939 \nQ 1816 3084 2150 3084 \nQ 2853 3084 3261 2657 \nQ 3669 2231 3669 1497 \nQ 3669 778 3244 343 \nQ 2819 -91 2113 -91 \nQ 1303 -91 875 529 \nQ 447 1150 447 2328 \nQ 447 3434 972 4092 \nQ 1497 4750 2381 4750 \nQ 2619 4750 2861 4703 \nQ 3103 4656 3366 4563 \nz\n\" id=\"DejaVuSans-36\" transform=\"scale(0.015625)\"/>\n       </defs>\n       <use xlink:href=\"#DejaVuSans-30\"/>\n       <use x=\"63.623047\" xlink:href=\"#DejaVuSans-2e\"/>\n       <use x=\"95.410156\" xlink:href=\"#DejaVuSans-36\"/>\n      </g>\n     </g>\n    </g>\n    <g id=\"xtick_5\">\n     <g id=\"line2d_9\">\n      <path clip-path=\"url(#p5b019a19b8)\" d=\"M 284.802273 224.64 \nL 284.802273 7.2 \n\" style=\"fill:none;stroke:#b0b0b0;stroke-linecap:square;stroke-width:0.8;\"/>\n     </g>\n     <g id=\"line2d_10\">\n      <g>\n       <use style=\"stroke:#000000;stroke-width:0.8;\" x=\"284.802273\" xlink:href=\"#m00c93175d3\" y=\"224.64\"/>\n      </g>\n     </g>\n     <g id=\"text_5\">\n      <!-- 0.8 -->\n      <g transform=\"translate(276.85071 239.238437)scale(0.1 -0.1)\">\n       <defs>\n        <path d=\"M 2034 2216 \nQ 1584 2216 1326 1975 \nQ 1069 1734 1069 1313 \nQ 1069 891 1326 650 \nQ 1584 409 2034 409 \nQ 2484 409 2743 651 \nQ 3003 894 3003 1313 \nQ 3003 1734 2745 1975 \nQ 2488 2216 2034 2216 \nz\nM 1403 2484 \nQ 997 2584 770 2862 \nQ 544 3141 544 3541 \nQ 544 4100 942 4425 \nQ 1341 4750 2034 4750 \nQ 2731 4750 3128 4425 \nQ 3525 4100 3525 3541 \nQ 3525 3141 3298 2862 \nQ 3072 2584 2669 2484 \nQ 3125 2378 3379 2068 \nQ 3634 1759 3634 1313 \nQ 3634 634 3220 271 \nQ 2806 -91 2034 -91 \nQ 1263 -91 848 271 \nQ 434 634 434 1313 \nQ 434 1759 690 2068 \nQ 947 2378 1403 2484 \nz\nM 1172 3481 \nQ 1172 3119 1398 2916 \nQ 1625 2713 2034 2713 \nQ 2441 2713 2670 2916 \nQ 2900 3119 2900 3481 \nQ 2900 3844 2670 4047 \nQ 2441 4250 2034 4250 \nQ 1625 4250 1398 4047 \nQ 1172 3844 1172 3481 \nz\n\" id=\"DejaVuSans-38\" transform=\"scale(0.015625)\"/>\n       </defs>\n       <use xlink:href=\"#DejaVuSans-30\"/>\n       <use x=\"63.623047\" xlink:href=\"#DejaVuSans-2e\"/>\n       <use x=\"95.410156\" xlink:href=\"#DejaVuSans-38\"/>\n      </g>\n     </g>\n    </g>\n    <g id=\"xtick_6\">\n     <g id=\"line2d_11\">\n      <path clip-path=\"url(#p5b019a19b8)\" d=\"M 344.248295 224.64 \nL 344.248295 7.2 \n\" style=\"fill:none;stroke:#b0b0b0;stroke-linecap:square;stroke-width:0.8;\"/>\n     </g>\n     <g id=\"line2d_12\">\n      <g>\n       <use style=\"stroke:#000000;stroke-width:0.8;\" x=\"344.248295\" xlink:href=\"#m00c93175d3\" y=\"224.64\"/>\n      </g>\n     </g>\n     <g id=\"text_6\">\n      <!-- 1.0 -->\n      <g transform=\"translate(336.296733 239.238437)scale(0.1 -0.1)\">\n       <defs>\n        <path d=\"M 794 531 \nL 1825 531 \nL 1825 4091 \nL 703 3866 \nL 703 4441 \nL 1819 4666 \nL 2450 4666 \nL 2450 531 \nL 3481 531 \nL 3481 0 \nL 794 0 \nL 794 531 \nz\n\" id=\"DejaVuSans-31\" transform=\"scale(0.015625)\"/>\n       </defs>\n       <use xlink:href=\"#DejaVuSans-31\"/>\n       <use x=\"63.623047\" xlink:href=\"#DejaVuSans-2e\"/>\n       <use x=\"95.410156\" xlink:href=\"#DejaVuSans-30\"/>\n      </g>\n     </g>\n    </g>\n    <g id=\"text_7\">\n     <!-- 1e6 -->\n     <g transform=\"translate(347.721875 251.916562)scale(0.1 -0.1)\">\n      <defs>\n       <path d=\"M 3597 1894 \nL 3597 1613 \nL 953 1613 \nQ 991 1019 1311 708 \nQ 1631 397 2203 397 \nQ 2534 397 2845 478 \nQ 3156 559 3463 722 \nL 3463 178 \nQ 3153 47 2828 -22 \nQ 2503 -91 2169 -91 \nQ 1331 -91 842 396 \nQ 353 884 353 1716 \nQ 353 2575 817 3079 \nQ 1281 3584 2069 3584 \nQ 2775 3584 3186 3129 \nQ 3597 2675 3597 1894 \nz\nM 3022 2063 \nQ 3016 2534 2758 2815 \nQ 2500 3097 2075 3097 \nQ 1594 3097 1305 2825 \nQ 1016 2553 972 2059 \nL 3022 2063 \nz\n\" id=\"DejaVuSans-65\" transform=\"scale(0.015625)\"/>\n      </defs>\n      <use xlink:href=\"#DejaVuSans-31\"/>\n      <use x=\"63.623047\" xlink:href=\"#DejaVuSans-65\"/>\n      <use x=\"125.146484\" xlink:href=\"#DejaVuSans-36\"/>\n     </g>\n    </g>\n   </g>\n   <g id=\"matplotlib.axis_2\">\n    <g id=\"ytick_1\">\n     <g id=\"line2d_13\">\n      <path clip-path=\"url(#p5b019a19b8)\" d=\"M 31.8 214.756364 \nL 366.6 214.756364 \n\" style=\"fill:none;stroke:#b0b0b0;stroke-linecap:square;stroke-width:0.8;\"/>\n     </g>\n     <g id=\"line2d_14\">\n      <defs>\n       <path d=\"M 0 0 \nL -3.5 0 \n\" id=\"m2d22245ca7\" style=\"stroke:#000000;stroke-width:0.8;\"/>\n      </defs>\n      <g>\n       <use style=\"stroke:#000000;stroke-width:0.8;\" x=\"31.8\" xlink:href=\"#m2d22245ca7\" y=\"214.756364\"/>\n      </g>\n     </g>\n     <g id=\"text_8\">\n      <!-- $\\mathdefault{10^{0}}$ -->\n      <g transform=\"translate(7.2 218.555582)scale(0.1 -0.1)\">\n       <use transform=\"translate(0 0.765625)\" xlink:href=\"#DejaVuSans-31\"/>\n       <use transform=\"translate(63.623047 0.765625)\" xlink:href=\"#DejaVuSans-30\"/>\n       <use transform=\"translate(128.203125 39.046875)scale(0.7)\" xlink:href=\"#DejaVuSans-30\"/>\n      </g>\n     </g>\n    </g>\n    <g id=\"ytick_2\">\n     <g id=\"line2d_15\">\n      <path clip-path=\"url(#p5b019a19b8)\" d=\"M 31.8 178.084616 \nL 366.6 178.084616 \n\" style=\"fill:none;stroke:#b0b0b0;stroke-linecap:square;stroke-width:0.8;\"/>\n     </g>\n     <g id=\"line2d_16\">\n      <g>\n       <use style=\"stroke:#000000;stroke-width:0.8;\" x=\"31.8\" xlink:href=\"#m2d22245ca7\" y=\"178.084616\"/>\n      </g>\n     </g>\n     <g id=\"text_9\">\n      <!-- $\\mathdefault{10^{1}}$ -->\n      <g transform=\"translate(7.2 181.883834)scale(0.1 -0.1)\">\n       <use transform=\"translate(0 0.684375)\" xlink:href=\"#DejaVuSans-31\"/>\n       <use transform=\"translate(63.623047 0.684375)\" xlink:href=\"#DejaVuSans-30\"/>\n       <use transform=\"translate(128.203125 38.965625)scale(0.7)\" xlink:href=\"#DejaVuSans-31\"/>\n      </g>\n     </g>\n    </g>\n    <g id=\"ytick_3\">\n     <g id=\"line2d_17\">\n      <path clip-path=\"url(#p5b019a19b8)\" d=\"M 31.8 141.412868 \nL 366.6 141.412868 \n\" style=\"fill:none;stroke:#b0b0b0;stroke-linecap:square;stroke-width:0.8;\"/>\n     </g>\n     <g id=\"line2d_18\">\n      <g>\n       <use style=\"stroke:#000000;stroke-width:0.8;\" x=\"31.8\" xlink:href=\"#m2d22245ca7\" y=\"141.412868\"/>\n      </g>\n     </g>\n     <g id=\"text_10\">\n      <!-- $\\mathdefault{10^{2}}$ -->\n      <g transform=\"translate(7.2 145.212086)scale(0.1 -0.1)\">\n       <use transform=\"translate(0 0.765625)\" xlink:href=\"#DejaVuSans-31\"/>\n       <use transform=\"translate(63.623047 0.765625)\" xlink:href=\"#DejaVuSans-30\"/>\n       <use transform=\"translate(128.203125 39.046875)scale(0.7)\" xlink:href=\"#DejaVuSans-32\"/>\n      </g>\n     </g>\n    </g>\n    <g id=\"ytick_4\">\n     <g id=\"line2d_19\">\n      <path clip-path=\"url(#p5b019a19b8)\" d=\"M 31.8 104.74112 \nL 366.6 104.74112 \n\" style=\"fill:none;stroke:#b0b0b0;stroke-linecap:square;stroke-width:0.8;\"/>\n     </g>\n     <g id=\"line2d_20\">\n      <g>\n       <use style=\"stroke:#000000;stroke-width:0.8;\" x=\"31.8\" xlink:href=\"#m2d22245ca7\" y=\"104.74112\"/>\n      </g>\n     </g>\n     <g id=\"text_11\">\n      <!-- $\\mathdefault{10^{3}}$ -->\n      <g transform=\"translate(7.2 108.540338)scale(0.1 -0.1)\">\n       <defs>\n        <path d=\"M 2597 2516 \nQ 3050 2419 3304 2112 \nQ 3559 1806 3559 1356 \nQ 3559 666 3084 287 \nQ 2609 -91 1734 -91 \nQ 1441 -91 1130 -33 \nQ 819 25 488 141 \nL 488 750 \nQ 750 597 1062 519 \nQ 1375 441 1716 441 \nQ 2309 441 2620 675 \nQ 2931 909 2931 1356 \nQ 2931 1769 2642 2001 \nQ 2353 2234 1838 2234 \nL 1294 2234 \nL 1294 2753 \nL 1863 2753 \nQ 2328 2753 2575 2939 \nQ 2822 3125 2822 3475 \nQ 2822 3834 2567 4026 \nQ 2313 4219 1838 4219 \nQ 1578 4219 1281 4162 \nQ 984 4106 628 3988 \nL 628 4550 \nQ 988 4650 1302 4700 \nQ 1616 4750 1894 4750 \nQ 2613 4750 3031 4423 \nQ 3450 4097 3450 3541 \nQ 3450 3153 3228 2886 \nQ 3006 2619 2597 2516 \nz\n\" id=\"DejaVuSans-33\" transform=\"scale(0.015625)\"/>\n       </defs>\n       <use transform=\"translate(0 0.765625)\" xlink:href=\"#DejaVuSans-31\"/>\n       <use transform=\"translate(63.623047 0.765625)\" xlink:href=\"#DejaVuSans-30\"/>\n       <use transform=\"translate(128.203125 39.046875)scale(0.7)\" xlink:href=\"#DejaVuSans-33\"/>\n      </g>\n     </g>\n    </g>\n    <g id=\"ytick_5\">\n     <g id=\"line2d_21\">\n      <path clip-path=\"url(#p5b019a19b8)\" d=\"M 31.8 68.069372 \nL 366.6 68.069372 \n\" style=\"fill:none;stroke:#b0b0b0;stroke-linecap:square;stroke-width:0.8;\"/>\n     </g>\n     <g id=\"line2d_22\">\n      <g>\n       <use style=\"stroke:#000000;stroke-width:0.8;\" x=\"31.8\" xlink:href=\"#m2d22245ca7\" y=\"68.069372\"/>\n      </g>\n     </g>\n     <g id=\"text_12\">\n      <!-- $\\mathdefault{10^{4}}$ -->\n      <g transform=\"translate(7.2 71.86859)scale(0.1 -0.1)\">\n       <use transform=\"translate(0 0.684375)\" xlink:href=\"#DejaVuSans-31\"/>\n       <use transform=\"translate(63.623047 0.684375)\" xlink:href=\"#DejaVuSans-30\"/>\n       <use transform=\"translate(128.203125 38.965625)scale(0.7)\" xlink:href=\"#DejaVuSans-34\"/>\n      </g>\n     </g>\n    </g>\n    <g id=\"ytick_6\">\n     <g id=\"line2d_23\">\n      <path clip-path=\"url(#p5b019a19b8)\" d=\"M 31.8 31.397624 \nL 366.6 31.397624 \n\" style=\"fill:none;stroke:#b0b0b0;stroke-linecap:square;stroke-width:0.8;\"/>\n     </g>\n     <g id=\"line2d_24\">\n      <g>\n       <use style=\"stroke:#000000;stroke-width:0.8;\" x=\"31.8\" xlink:href=\"#m2d22245ca7\" y=\"31.397624\"/>\n      </g>\n     </g>\n     <g id=\"text_13\">\n      <!-- $\\mathdefault{10^{5}}$ -->\n      <g transform=\"translate(7.2 35.196842)scale(0.1 -0.1)\">\n       <defs>\n        <path d=\"M 691 4666 \nL 3169 4666 \nL 3169 4134 \nL 1269 4134 \nL 1269 2991 \nQ 1406 3038 1543 3061 \nQ 1681 3084 1819 3084 \nQ 2600 3084 3056 2656 \nQ 3513 2228 3513 1497 \nQ 3513 744 3044 326 \nQ 2575 -91 1722 -91 \nQ 1428 -91 1123 -41 \nQ 819 9 494 109 \nL 494 744 \nQ 775 591 1075 516 \nQ 1375 441 1709 441 \nQ 2250 441 2565 725 \nQ 2881 1009 2881 1497 \nQ 2881 1984 2565 2268 \nQ 2250 2553 1709 2553 \nQ 1456 2553 1204 2497 \nQ 953 2441 691 2322 \nL 691 4666 \nz\n\" id=\"DejaVuSans-35\" transform=\"scale(0.015625)\"/>\n       </defs>\n       <use transform=\"translate(0 0.684375)\" xlink:href=\"#DejaVuSans-31\"/>\n       <use transform=\"translate(63.623047 0.684375)\" xlink:href=\"#DejaVuSans-30\"/>\n       <use transform=\"translate(128.203125 38.965625)scale(0.7)\" xlink:href=\"#DejaVuSans-35\"/>\n      </g>\n     </g>\n    </g>\n    <g id=\"ytick_7\">\n     <g id=\"line2d_25\">\n      <defs>\n       <path d=\"M 0 0 \nL -2 0 \n\" id=\"m55c6dafc51\" style=\"stroke:#000000;stroke-width:0.6;\"/>\n      </defs>\n      <g>\n       <use style=\"stroke:#000000;stroke-width:0.6;\" x=\"31.8\" xlink:href=\"#m55c6dafc51\" y=\"222.891945\"/>\n      </g>\n     </g>\n    </g>\n    <g id=\"ytick_8\">\n     <g id=\"line2d_26\">\n      <g>\n       <use style=\"stroke:#000000;stroke-width:0.6;\" x=\"31.8\" xlink:href=\"#m55c6dafc51\" y=\"220.436889\"/>\n      </g>\n     </g>\n    </g>\n    <g id=\"ytick_9\">\n     <g id=\"line2d_27\">\n      <g>\n       <use style=\"stroke:#000000;stroke-width:0.6;\" x=\"31.8\" xlink:href=\"#m55c6dafc51\" y=\"218.310223\"/>\n      </g>\n     </g>\n    </g>\n    <g id=\"ytick_10\">\n     <g id=\"line2d_28\">\n      <g>\n       <use style=\"stroke:#000000;stroke-width:0.6;\" x=\"31.8\" xlink:href=\"#m55c6dafc51\" y=\"216.434371\"/>\n      </g>\n     </g>\n    </g>\n    <g id=\"ytick_11\">\n     <g id=\"line2d_29\">\n      <g>\n       <use style=\"stroke:#000000;stroke-width:0.6;\" x=\"31.8\" xlink:href=\"#m55c6dafc51\" y=\"203.717067\"/>\n      </g>\n     </g>\n    </g>\n    <g id=\"ytick_12\">\n     <g id=\"line2d_30\">\n      <g>\n       <use style=\"stroke:#000000;stroke-width:0.6;\" x=\"31.8\" xlink:href=\"#m55c6dafc51\" y=\"197.259493\"/>\n      </g>\n     </g>\n    </g>\n    <g id=\"ytick_13\">\n     <g id=\"line2d_31\">\n      <g>\n       <use style=\"stroke:#000000;stroke-width:0.6;\" x=\"31.8\" xlink:href=\"#m55c6dafc51\" y=\"192.677771\"/>\n      </g>\n     </g>\n    </g>\n    <g id=\"ytick_14\">\n     <g id=\"line2d_32\">\n      <g>\n       <use style=\"stroke:#000000;stroke-width:0.6;\" x=\"31.8\" xlink:href=\"#m55c6dafc51\" y=\"189.123912\"/>\n      </g>\n     </g>\n    </g>\n    <g id=\"ytick_15\">\n     <g id=\"line2d_33\">\n      <g>\n       <use style=\"stroke:#000000;stroke-width:0.6;\" x=\"31.8\" xlink:href=\"#m55c6dafc51\" y=\"186.220197\"/>\n      </g>\n     </g>\n    </g>\n    <g id=\"ytick_16\">\n     <g id=\"line2d_34\">\n      <g>\n       <use style=\"stroke:#000000;stroke-width:0.6;\" x=\"31.8\" xlink:href=\"#m55c6dafc51\" y=\"183.765141\"/>\n      </g>\n     </g>\n    </g>\n    <g id=\"ytick_17\">\n     <g id=\"line2d_35\">\n      <g>\n       <use style=\"stroke:#000000;stroke-width:0.6;\" x=\"31.8\" xlink:href=\"#m55c6dafc51\" y=\"181.638475\"/>\n      </g>\n     </g>\n    </g>\n    <g id=\"ytick_18\">\n     <g id=\"line2d_36\">\n      <g>\n       <use style=\"stroke:#000000;stroke-width:0.6;\" x=\"31.8\" xlink:href=\"#m55c6dafc51\" y=\"179.762623\"/>\n      </g>\n     </g>\n    </g>\n    <g id=\"ytick_19\">\n     <g id=\"line2d_37\">\n      <g>\n       <use style=\"stroke:#000000;stroke-width:0.6;\" x=\"31.8\" xlink:href=\"#m55c6dafc51\" y=\"167.045319\"/>\n      </g>\n     </g>\n    </g>\n    <g id=\"ytick_20\">\n     <g id=\"line2d_38\">\n      <g>\n       <use style=\"stroke:#000000;stroke-width:0.6;\" x=\"31.8\" xlink:href=\"#m55c6dafc51\" y=\"160.587745\"/>\n      </g>\n     </g>\n    </g>\n    <g id=\"ytick_21\">\n     <g id=\"line2d_39\">\n      <g>\n       <use style=\"stroke:#000000;stroke-width:0.6;\" x=\"31.8\" xlink:href=\"#m55c6dafc51\" y=\"156.006023\"/>\n      </g>\n     </g>\n    </g>\n    <g id=\"ytick_22\">\n     <g id=\"line2d_40\">\n      <g>\n       <use style=\"stroke:#000000;stroke-width:0.6;\" x=\"31.8\" xlink:href=\"#m55c6dafc51\" y=\"152.452164\"/>\n      </g>\n     </g>\n    </g>\n    <g id=\"ytick_23\">\n     <g id=\"line2d_41\">\n      <g>\n       <use style=\"stroke:#000000;stroke-width:0.6;\" x=\"31.8\" xlink:href=\"#m55c6dafc51\" y=\"149.548449\"/>\n      </g>\n     </g>\n    </g>\n    <g id=\"ytick_24\">\n     <g id=\"line2d_42\">\n      <g>\n       <use style=\"stroke:#000000;stroke-width:0.6;\" x=\"31.8\" xlink:href=\"#m55c6dafc51\" y=\"147.093393\"/>\n      </g>\n     </g>\n    </g>\n    <g id=\"ytick_25\">\n     <g id=\"line2d_43\">\n      <g>\n       <use style=\"stroke:#000000;stroke-width:0.6;\" x=\"31.8\" xlink:href=\"#m55c6dafc51\" y=\"144.966727\"/>\n      </g>\n     </g>\n    </g>\n    <g id=\"ytick_26\">\n     <g id=\"line2d_44\">\n      <g>\n       <use style=\"stroke:#000000;stroke-width:0.6;\" x=\"31.8\" xlink:href=\"#m55c6dafc51\" y=\"143.090875\"/>\n      </g>\n     </g>\n    </g>\n    <g id=\"ytick_27\">\n     <g id=\"line2d_45\">\n      <g>\n       <use style=\"stroke:#000000;stroke-width:0.6;\" x=\"31.8\" xlink:href=\"#m55c6dafc51\" y=\"130.373571\"/>\n      </g>\n     </g>\n    </g>\n    <g id=\"ytick_28\">\n     <g id=\"line2d_46\">\n      <g>\n       <use style=\"stroke:#000000;stroke-width:0.6;\" x=\"31.8\" xlink:href=\"#m55c6dafc51\" y=\"123.915997\"/>\n      </g>\n     </g>\n    </g>\n    <g id=\"ytick_29\">\n     <g id=\"line2d_47\">\n      <g>\n       <use style=\"stroke:#000000;stroke-width:0.6;\" x=\"31.8\" xlink:href=\"#m55c6dafc51\" y=\"119.334275\"/>\n      </g>\n     </g>\n    </g>\n    <g id=\"ytick_30\">\n     <g id=\"line2d_48\">\n      <g>\n       <use style=\"stroke:#000000;stroke-width:0.6;\" x=\"31.8\" xlink:href=\"#m55c6dafc51\" y=\"115.780416\"/>\n      </g>\n     </g>\n    </g>\n    <g id=\"ytick_31\">\n     <g id=\"line2d_49\">\n      <g>\n       <use style=\"stroke:#000000;stroke-width:0.6;\" x=\"31.8\" xlink:href=\"#m55c6dafc51\" y=\"112.876701\"/>\n      </g>\n     </g>\n    </g>\n    <g id=\"ytick_32\">\n     <g id=\"line2d_50\">\n      <g>\n       <use style=\"stroke:#000000;stroke-width:0.6;\" x=\"31.8\" xlink:href=\"#m55c6dafc51\" y=\"110.421645\"/>\n      </g>\n     </g>\n    </g>\n    <g id=\"ytick_33\">\n     <g id=\"line2d_51\">\n      <g>\n       <use style=\"stroke:#000000;stroke-width:0.6;\" x=\"31.8\" xlink:href=\"#m55c6dafc51\" y=\"108.294979\"/>\n      </g>\n     </g>\n    </g>\n    <g id=\"ytick_34\">\n     <g id=\"line2d_52\">\n      <g>\n       <use style=\"stroke:#000000;stroke-width:0.6;\" x=\"31.8\" xlink:href=\"#m55c6dafc51\" y=\"106.419127\"/>\n      </g>\n     </g>\n    </g>\n    <g id=\"ytick_35\">\n     <g id=\"line2d_53\">\n      <g>\n       <use style=\"stroke:#000000;stroke-width:0.6;\" x=\"31.8\" xlink:href=\"#m55c6dafc51\" y=\"93.701823\"/>\n      </g>\n     </g>\n    </g>\n    <g id=\"ytick_36\">\n     <g id=\"line2d_54\">\n      <g>\n       <use style=\"stroke:#000000;stroke-width:0.6;\" x=\"31.8\" xlink:href=\"#m55c6dafc51\" y=\"87.244249\"/>\n      </g>\n     </g>\n    </g>\n    <g id=\"ytick_37\">\n     <g id=\"line2d_55\">\n      <g>\n       <use style=\"stroke:#000000;stroke-width:0.6;\" x=\"31.8\" xlink:href=\"#m55c6dafc51\" y=\"82.662527\"/>\n      </g>\n     </g>\n    </g>\n    <g id=\"ytick_38\">\n     <g id=\"line2d_56\">\n      <g>\n       <use style=\"stroke:#000000;stroke-width:0.6;\" x=\"31.8\" xlink:href=\"#m55c6dafc51\" y=\"79.108668\"/>\n      </g>\n     </g>\n    </g>\n    <g id=\"ytick_39\">\n     <g id=\"line2d_57\">\n      <g>\n       <use style=\"stroke:#000000;stroke-width:0.6;\" x=\"31.8\" xlink:href=\"#m55c6dafc51\" y=\"76.204953\"/>\n      </g>\n     </g>\n    </g>\n    <g id=\"ytick_40\">\n     <g id=\"line2d_58\">\n      <g>\n       <use style=\"stroke:#000000;stroke-width:0.6;\" x=\"31.8\" xlink:href=\"#m55c6dafc51\" y=\"73.749897\"/>\n      </g>\n     </g>\n    </g>\n    <g id=\"ytick_41\">\n     <g id=\"line2d_59\">\n      <g>\n       <use style=\"stroke:#000000;stroke-width:0.6;\" x=\"31.8\" xlink:href=\"#m55c6dafc51\" y=\"71.623231\"/>\n      </g>\n     </g>\n    </g>\n    <g id=\"ytick_42\">\n     <g id=\"line2d_60\">\n      <g>\n       <use style=\"stroke:#000000;stroke-width:0.6;\" x=\"31.8\" xlink:href=\"#m55c6dafc51\" y=\"69.747379\"/>\n      </g>\n     </g>\n    </g>\n    <g id=\"ytick_43\">\n     <g id=\"line2d_61\">\n      <g>\n       <use style=\"stroke:#000000;stroke-width:0.6;\" x=\"31.8\" xlink:href=\"#m55c6dafc51\" y=\"57.030075\"/>\n      </g>\n     </g>\n    </g>\n    <g id=\"ytick_44\">\n     <g id=\"line2d_62\">\n      <g>\n       <use style=\"stroke:#000000;stroke-width:0.6;\" x=\"31.8\" xlink:href=\"#m55c6dafc51\" y=\"50.572501\"/>\n      </g>\n     </g>\n    </g>\n    <g id=\"ytick_45\">\n     <g id=\"line2d_63\">\n      <g>\n       <use style=\"stroke:#000000;stroke-width:0.6;\" x=\"31.8\" xlink:href=\"#m55c6dafc51\" y=\"45.990779\"/>\n      </g>\n     </g>\n    </g>\n    <g id=\"ytick_46\">\n     <g id=\"line2d_64\">\n      <g>\n       <use style=\"stroke:#000000;stroke-width:0.6;\" x=\"31.8\" xlink:href=\"#m55c6dafc51\" y=\"42.43692\"/>\n      </g>\n     </g>\n    </g>\n    <g id=\"ytick_47\">\n     <g id=\"line2d_65\">\n      <g>\n       <use style=\"stroke:#000000;stroke-width:0.6;\" x=\"31.8\" xlink:href=\"#m55c6dafc51\" y=\"39.533205\"/>\n      </g>\n     </g>\n    </g>\n    <g id=\"ytick_48\">\n     <g id=\"line2d_66\">\n      <g>\n       <use style=\"stroke:#000000;stroke-width:0.6;\" x=\"31.8\" xlink:href=\"#m55c6dafc51\" y=\"37.078149\"/>\n      </g>\n     </g>\n    </g>\n    <g id=\"ytick_49\">\n     <g id=\"line2d_67\">\n      <g>\n       <use style=\"stroke:#000000;stroke-width:0.6;\" x=\"31.8\" xlink:href=\"#m55c6dafc51\" y=\"34.951483\"/>\n      </g>\n     </g>\n    </g>\n    <g id=\"ytick_50\">\n     <g id=\"line2d_68\">\n      <g>\n       <use style=\"stroke:#000000;stroke-width:0.6;\" x=\"31.8\" xlink:href=\"#m55c6dafc51\" y=\"33.075631\"/>\n      </g>\n     </g>\n    </g>\n    <g id=\"ytick_51\">\n     <g id=\"line2d_69\">\n      <g>\n       <use style=\"stroke:#000000;stroke-width:0.6;\" x=\"31.8\" xlink:href=\"#m55c6dafc51\" y=\"20.358327\"/>\n      </g>\n     </g>\n    </g>\n    <g id=\"ytick_52\">\n     <g id=\"line2d_70\">\n      <g>\n       <use style=\"stroke:#000000;stroke-width:0.6;\" x=\"31.8\" xlink:href=\"#m55c6dafc51\" y=\"13.900753\"/>\n      </g>\n     </g>\n    </g>\n    <g id=\"ytick_53\">\n     <g id=\"line2d_71\">\n      <g>\n       <use style=\"stroke:#000000;stroke-width:0.6;\" x=\"31.8\" xlink:href=\"#m55c6dafc51\" y=\"9.319031\"/>\n      </g>\n     </g>\n    </g>\n   </g>\n   <g id=\"patch_23\">\n    <path d=\"M 31.8 224.64 \nL 31.8 7.2 \n\" style=\"fill:none;stroke:#000000;stroke-linecap:square;stroke-linejoin:miter;stroke-width:0.8;\"/>\n   </g>\n   <g id=\"patch_24\">\n    <path d=\"M 366.6 224.64 \nL 366.6 7.2 \n\" style=\"fill:none;stroke:#000000;stroke-linecap:square;stroke-linejoin:miter;stroke-width:0.8;\"/>\n   </g>\n   <g id=\"patch_25\">\n    <path d=\"M 31.8 224.64 \nL 366.6 224.64 \n\" style=\"fill:none;stroke:#000000;stroke-linecap:square;stroke-linejoin:miter;stroke-width:0.8;\"/>\n   </g>\n   <g id=\"patch_26\">\n    <path d=\"M 31.8 7.2 \nL 366.6 7.2 \n\" style=\"fill:none;stroke:#000000;stroke-linecap:square;stroke-linejoin:miter;stroke-width:0.8;\"/>\n   </g>\n  </g>\n </g>\n <defs>\n  <clipPath id=\"p5b019a19b8\">\n   <rect height=\"217.44\" width=\"334.8\" x=\"31.8\" y=\"7.2\"/>\n  </clipPath>\n </defs>\n</svg>\n",
      "image/png": "[encoded data removed]"
     },
     "metadata": {
      "needs_background": "light"
     }
    }
   ],
   "source": [
    "# file size\n",
    "df['size'].hist(bins=range(0, 1*1024*1024, 550*1024, log=True))"
   ]
  },
  {
   "cell_type": "code",
   "execution_count": 92,
   "metadata": {},
   "outputs": [
    {
     "output_type": "execute_result",
     "data": {
      "text/plain": [
       "1047352"
      ]
     },
     "metadata": {},
     "execution_count": 92
    }
   ],
   "source": [
    "df['size'].max()"
   ]
  },
  {
   "cell_type": "code",
   "execution_count": 93,
   "metadata": {},
   "outputs": [
    {
     "output_type": "execute_result",
     "data": {
      "text/plain": [
       "                               repository     size  \\\n",
       "91339   daviddrysdale/python-phonenumbers   889970   \n",
       "91343   daviddrysdale/python-phonenumbers   931359   \n",
       "91349   daviddrysdale/python-phonenumbers   927452   \n",
       "91357   daviddrysdale/python-phonenumbers   932555   \n",
       "91361   daviddrysdale/python-phonenumbers   920742   \n",
       "91363   daviddrysdale/python-phonenumbers   927753   \n",
       "91376   daviddrysdale/python-phonenumbers   928371   \n",
       "91388   daviddrysdale/python-phonenumbers   930307   \n",
       "91398   daviddrysdale/python-phonenumbers   920711   \n",
       "91402   daviddrysdale/python-phonenumbers   928959   \n",
       "91414   daviddrysdale/python-phonenumbers   927011   \n",
       "91422   daviddrysdale/python-phonenumbers   931955   \n",
       "91439   daviddrysdale/python-phonenumbers   933838   \n",
       "142449                         jopohl/urh   848534   \n",
       "233064              trailofbits/manticore  1047352   \n",
       "\n",
       "                                                                     sha  \\\n",
       "91339   4523ec1e14b5fbaf24eabfb819e15270f55b47b0a57e0c93254e4f2ced4af70b   \n",
       "91343   677911cd5ba09d4400446060125507ed8ec5766c63f1d9cd1ac9093953ef0cdc   \n",
       "91349   25660d31a5b1e011cc45727839b72f9ef8cbfc1aa8fe0b3b85ebdf7943ab9348   \n",
       "91357   537fb64338744be0a332068e6f7215d5042aeae716218131c1b80be73bedcc94   \n",
       "91361   8d8e8ae9be774f3bec428bc522053d2dd8d42e423ccf815edf37af2d4fda0cd3   \n",
       "91363   ee5ea4ac20d9ba70d64aea14e11e2087ddf86032be9b7ab680044f61f0bd9133   \n",
       "91376   b2d878281fb9d4dad34e74ae6dbe8d9a62635f4eb9d47e46ac3d5ce20ce814d5   \n",
       "91388   f45c5cccfb73b41d8576ea8371bc8369a194a67af28c9e4e738d379b884b9073   \n",
       "91398   30e1eee8e63a2a4d2cb6e2d4d1ee461e348c15a901a30913c605be11b2c3b878   \n",
       "91402   1023c2d74e082fd281c9b6f7be736f315ab656dca803a7f4e038789baf929263   \n",
       "91414   acfc41f91666bb610f0bbb1c93accddd0bdcf49e52f2e9fae5932b799de48a47   \n",
       "91422   692fc1d553bb7eb28e489c695f3bd28eec79ed0d309819f24da5dc26eb19d714   \n",
       "91439   eb91ebb0e1b445825851553cd39c5df3e57863801a397df213a27bfb5dc15044   \n",
       "142449  985ae9faf1bfef5923889df10402f293957681ff908cb1f56183601f4da1a9a6   \n",
       "233064  372fb6e7fedd0ab2fb1e7ab3401cbb1cbf292bf1e0d4a5b6680f99705ac3ea37   \n",
       "\n",
       "       content                               filepath license  \n",
       "91339            python/phonenumbers/geodata/data4.py          \n",
       "91343           python/phonenumbers/geodata/data16.py          \n",
       "91349           python/phonenumbers/geodata/data15.py          \n",
       "91357           python/phonenumbers/geodata/data17.py          \n",
       "91361           python/phonenumbers/geodata/data20.py          \n",
       "91363           python/phonenumbers/geodata/data21.py          \n",
       "91376           python/phonenumbers/geodata/data22.py          \n",
       "91388           python/phonenumbers/geodata/data23.py          \n",
       "91398           python/phonenumbers/geodata/data14.py          \n",
       "91402           python/phonenumbers/geodata/data18.py          \n",
       "91414           python/phonenumbers/geodata/data13.py          \n",
       "91422           python/phonenumbers/geodata/data12.py          \n",
       "91439           python/phonenumbers/geodata/data19.py          \n",
       "142449                           src/urh/ui/urh_rc.py          \n",
       "233064             tests/native/test_x86_pcmpxstrx.py          "
      ],
      "text/html": "<div>\n<style scoped>\n    .dataframe tbody tr th:only-of-type {\n        vertical-align: middle;\n    }\n\n    .dataframe tbody tr th {\n        vertical-align: top;\n    }\n\n    .dataframe thead th {\n        text-align: right;\n    }\n</style>\n<table border=\"1\" class=\"dataframe\">\n  <thead>\n    <tr style=\"text-align: right;\">\n      <th></th>\n      <th>repository</th>\n      <th>size</th>\n      <th>sha</th>\n      <th>content</th>\n      <th>filepath</th>\n      <th>license</th>\n    </tr>\n  </thead>\n  <tbody>\n    <tr>\n      <th>91339</th>\n      <td>daviddrysdale/python-phonenumbers</td>\n      <td>889970</td>\n      <td>4523ec1e14b5fbaf24eabfb819e15270f55b47b0a57e0c93254e4f2ced4af70b</td>\n      <td></td>\n      <td>python/phonenumbers/geodata/data4.py</td>\n      <td></td>\n    </tr>\n    <tr>\n      <th>91343</th>\n      <td>daviddrysdale/python-phonenumbers</td>\n      <td>931359</td>\n      <td>677911cd5ba09d4400446060125507ed8ec5766c63f1d9cd1ac9093953ef0cdc</td>\n      <td></td>\n      <td>python/phonenumbers/geodata/data16.py</td>\n      <td></td>\n    </tr>\n    <tr>\n      <th>91349</th>\n      <td>daviddrysdale/python-phonenumbers</td>\n      <td>927452</td>\n      <td>25660d31a5b1e011cc45727839b72f9ef8cbfc1aa8fe0b3b85ebdf7943ab9348</td>\n      <td></td>\n      <td>python/phonenumbers/geodata/data15.py</td>\n      <td></td>\n    </tr>\n    <tr>\n      <th>91357</th>\n      <td>daviddrysdale/python-phonenumbers</td>\n      <td>932555</td>\n      <td>537fb64338744be0a332068e6f7215d5042aeae716218131c1b80be73bedcc94</td>\n      <td></td>\n      <td>python/phonenumbers/geodata/data17.py</td>\n      <td></td>\n    </tr>\n    <tr>\n      <th>91361</th>\n      <td>daviddrysdale/python-phonenumbers</td>\n      <td>920742</td>\n      <td>8d8e8ae9be774f3bec428bc522053d2dd8d42e423ccf815edf37af2d4fda0cd3</td>\n      <td></td>\n      <td>python/phonenumbers/geodata/data20.py</td>\n      <td></td>\n    </tr>\n    <tr>\n      <th>91363</th>\n      <td>daviddrysdale/python-phonenumbers</td>\n      <td>927753</td>\n      <td>ee5ea4ac20d9ba70d64aea14e11e2087ddf86032be9b7ab680044f61f0bd9133</td>\n      <td></td>\n      <td>python/phonenumbers/geodata/data21.py</td>\n      <td></td>\n    </tr>\n    <tr>\n      <th>91376</th>\n      <td>daviddrysdale/python-phonenumbers</td>\n      <td>928371</td>\n      <td>b2d878281fb9d4dad34e74ae6dbe8d9a62635f4eb9d47e46ac3d5ce20ce814d5</td>\n      <td></td>\n      <td>python/phonenumbers/geodata/data22.py</td>\n      <td></td>\n    </tr>\n    <tr>\n      <th>91388</th>\n      <td>daviddrysdale/python-phonenumbers</td>\n      <td>930307</td>\n      <td>f45c5cccfb73b41d8576ea8371bc8369a194a67af28c9e4e738d379b884b9073</td>\n      <td></td>\n      <td>python/phonenumbers/geodata/data23.py</td>\n      <td></td>\n    </tr>\n    <tr>\n      <th>91398</th>\n      <td>daviddrysdale/python-phonenumbers</td>\n      <td>920711</td>\n      <td>30e1eee8e63a2a4d2cb6e2d4d1ee461e348c15a901a30913c605be11b2c3b878</td>\n      <td></td>\n      <td>python/phonenumbers/geodata/data14.py</td>\n      <td></td>\n    </tr>\n    <tr>\n      <th>91402</th>\n      <td>daviddrysdale/python-phonenumbers</td>\n      <td>928959</td>\n      <td>1023c2d74e082fd281c9b6f7be736f315ab656dca803a7f4e038789baf929263</td>\n      <td></td>\n      <td>python/phonenumbers/geodata/data18.py</td>\n      <td></td>\n    </tr>\n    <tr>\n      <th>91414</th>\n      <td>daviddrysdale/python-phonenumbers</td>\n      <td>927011</td>\n      <td>acfc41f91666bb610f0bbb1c93accddd0bdcf49e52f2e9fae5932b799de48a47</td>\n      <td></td>\n      <td>python/phonenumbers/geodata/data13.py</td>\n      <td></td>\n    </tr>\n    <tr>\n      <th>91422</th>\n      <td>daviddrysdale/python-phonenumbers</td>\n      <td>931955</td>\n      <td>692fc1d553bb7eb28e489c695f3bd28eec79ed0d309819f24da5dc26eb19d714</td>\n      <td></td>\n      <td>python/phonenumbers/geodata/data12.py</td>\n      <td></td>\n    </tr>\n    <tr>\n      <th>91439</th>\n      <td>daviddrysdale/python-phonenumbers</td>\n      <td>933838</td>\n      <td>eb91ebb0e1b445825851553cd39c5df3e57863801a397df213a27bfb5dc15044</td>\n      <td></td>\n      <td>python/phonenumbers/geodata/data19.py</td>\n      <td></td>\n    </tr>\n    <tr>\n      <th>142449</th>\n      <td>jopohl/urh</td>\n      <td>848534</td>\n      <td>985ae9faf1bfef5923889df10402f293957681ff908cb1f56183601f4da1a9a6</td>\n      <td></td>\n      <td>src/urh/ui/urh_rc.py</td>\n      <td></td>\n    </tr>\n    <tr>\n      <th>233064</th>\n      <td>trailofbits/manticore</td>\n      <td>1047352</td>\n      <td>372fb6e7fedd0ab2fb1e7ab3401cbb1cbf292bf1e0d4a5b6680f99705ac3ea37</td>\n      <td></td>\n      <td>tests/native/test_x86_pcmpxstrx.py</td>\n      <td></td>\n    </tr>\n  </tbody>\n</table>\n</div>"
     },
     "metadata": {},
     "execution_count": 93
    }
   ],
   "source": [
    "df[df['size'] > 0.8*1024*1024]"
   ]
  },
  {
   "cell_type": "code",
   "execution_count": 94,
   "metadata": {},
   "outputs": [
    {
     "output_type": "execute_result",
     "data": {
      "text/plain": [
       "Empty DataFrame\n",
       "Columns: [repository, size, sha, content, filepath, license]\n",
       "Index: []"
      ],
      "text/html": "<div>\n<style scoped>\n    .dataframe tbody tr th:only-of-type {\n        vertical-align: middle;\n    }\n\n    .dataframe tbody tr th {\n        vertical-align: top;\n    }\n\n    .dataframe thead th {\n        text-align: right;\n    }\n</style>\n<table border=\"1\" class=\"dataframe\">\n  <thead>\n    <tr style=\"text-align: right;\">\n      <th></th>\n      <th>repository</th>\n      <th>size</th>\n      <th>sha</th>\n      <th>content</th>\n      <th>filepath</th>\n      <th>license</th>\n    </tr>\n  </thead>\n  <tbody>\n  </tbody>\n</table>\n</div>"
     },
     "metadata": {},
     "execution_count": 94
    }
   ],
   "source": [
    "df[df.sha == \"\"]"
   ]
  },
  {
   "cell_type": "code",
   "execution_count": 187,
   "metadata": {},
   "outputs": [
    {
     "output_type": "execute_result",
     "data": {
      "text/plain": [
       "                               repository     size sha content  \\\n",
       "17197           DonJayamanne/pythonVSCode  1708882               \n",
       "18108                     Ewenwan/MVision  1594471               \n",
       "18746                       Gerapy/Gerapy  1594471               \n",
       "23640                  IronLanguages/main  2030145               \n",
       "28997             Microsoft/vscode-python  1708882               \n",
       "59688                          ambv/black  1472551               \n",
       "62754           ansible/ansible-container  1594471               \n",
       "65672                         apache/hive  1588323               \n",
       "99744   daviddrysdale/python-phonenumbers  1297805               \n",
       "122462                        fxsjy/jieba  2700685               \n",
       "134333                    google/enjarify  1601623               \n",
       "138445             gravitational/teleport  1708882               \n",
       "146567                  huyingxi/Synonyms  2700685               \n",
       "146572                  huyingxi/Synonyms  1075198               \n",
       "155115                         jopohl/urh  3925548               \n",
       "196314            persepolisdm/persepolis  1562728               \n",
       "199042                   plotly/plotly.py  3488558               \n",
       "208959                        pypa/pipenv  1594649               \n",
       "211965                       python/black  1472551               \n",
       "225779                   saffsd/langid.py  2528587               \n",
       "234488                        spulec/moto  1128950               \n",
       "239834                        sympy/sympy  1868285               \n",
       "240787        taxigps/xbmc-addons-chinese  3459890               \n",
       "253181              trailofbits/manticore  3496661               \n",
       "253226              trailofbits/manticore  1482685               \n",
       "259427                     vmware/pyvmomi  1205714               \n",
       "\n",
       "                                                 filepath license  \n",
       "17197                                     data/get-pip.py          \n",
       "18108                    MXnet/self_lear_mxnet/get-pip.py          \n",
       "18746    Deploy_Python3/roles/supervisor/files/get-pip.py          \n",
       "23640   Languages/IronPython/Tests/stress/bigimport1_t...          \n",
       "28997                                     data/get-pip.py          \n",
       "59688                               profiling/mix_huge.py          \n",
       "62754                   container/docker/files/get-pip.py          \n",
       "65672   standalone-metastore/metastore-common/src/gen/...          \n",
       "99744               python/phonenumbers/geodata/locale.py          \n",
       "122462                          jieba/posseg/prob_emit.py          \n",
       "134333                   enjarify/jvm/constants/lookup.py          \n",
       "138445                                    docs/get-pip.py          \n",
       "146567                 synonyms/jieba/posseg/prob_emit.py          \n",
       "146572               synonyms/jieba/finalseg/prob_emit.py          \n",
       "155115                        src/urh/ui/xtra_icons_rc.py          \n",
       "196314                        persepolis/gui/resources.py          \n",
       "199042  packages/python/plotly/plotly/graph_objs/__ini...          \n",
       "208959                                      get-pipenv.py          \n",
       "211965                              profiling/mix_huge.py          \n",
       "225779                                   langid/langid.py          \n",
       "234488                   moto/iam/aws_managed_policies.py          \n",
       "239834  sympy/integrals/rubi/rubi_tests/tests/test_tri...          \n",
       "240787        plugin.video.dnvodPlayer/js2py/es6/babel.py          \n",
       "253181                           tests/native/test_x86.py          \n",
       "253226                 tests/native/test_cpu_automatic.py          \n",
       "259427                           pyVmomi/ServerObjects.py          "
      ],
      "text/html": "<div>\n<style scoped>\n    .dataframe tbody tr th:only-of-type {\n        vertical-align: middle;\n    }\n\n    .dataframe tbody tr th {\n        vertical-align: top;\n    }\n\n    .dataframe thead th {\n        text-align: right;\n    }\n</style>\n<table border=\"1\" class=\"dataframe\">\n  <thead>\n    <tr style=\"text-align: right;\">\n      <th></th>\n      <th>repository</th>\n      <th>size</th>\n      <th>sha</th>\n      <th>content</th>\n      <th>filepath</th>\n      <th>license</th>\n    </tr>\n  </thead>\n  <tbody>\n    <tr>\n      <th>17197</th>\n      <td>DonJayamanne/pythonVSCode</td>\n      <td>1708882</td>\n      <td></td>\n      <td></td>\n      <td>data/get-pip.py</td>\n      <td></td>\n    </tr>\n    <tr>\n      <th>18108</th>\n      <td>Ewenwan/MVision</td>\n      <td>1594471</td>\n      <td></td>\n      <td></td>\n      <td>MXnet/self_lear_mxnet/get-pip.py</td>\n      <td></td>\n    </tr>\n    <tr>\n      <th>18746</th>\n      <td>Gerapy/Gerapy</td>\n      <td>1594471</td>\n      <td></td>\n      <td></td>\n      <td>Deploy_Python3/roles/supervisor/files/get-pip.py</td>\n      <td></td>\n    </tr>\n    <tr>\n      <th>23640</th>\n      <td>IronLanguages/main</td>\n      <td>2030145</td>\n      <td></td>\n      <td></td>\n      <td>Languages/IronPython/Tests/stress/bigimport1_t...</td>\n      <td></td>\n    </tr>\n    <tr>\n      <th>28997</th>\n      <td>Microsoft/vscode-python</td>\n      <td>1708882</td>\n      <td></td>\n      <td></td>\n      <td>data/get-pip.py</td>\n      <td></td>\n    </tr>\n    <tr>\n      <th>59688</th>\n      <td>ambv/black</td>\n      <td>1472551</td>\n      <td></td>\n      <td></td>\n      <td>profiling/mix_huge.py</td>\n      <td></td>\n    </tr>\n    <tr>\n      <th>62754</th>\n      <td>ansible/ansible-container</td>\n      <td>1594471</td>\n      <td></td>\n      <td></td>\n      <td>container/docker/files/get-pip.py</td>\n      <td></td>\n    </tr>\n    <tr>\n      <th>65672</th>\n      <td>apache/hive</td>\n      <td>1588323</td>\n      <td></td>\n      <td></td>\n      <td>standalone-metastore/metastore-common/src/gen/...</td>\n      <td></td>\n    </tr>\n    <tr>\n      <th>99744</th>\n      <td>daviddrysdale/python-phonenumbers</td>\n      <td>1297805</td>\n      <td></td>\n      <td></td>\n      <td>python/phonenumbers/geodata/locale.py</td>\n      <td></td>\n    </tr>\n    <tr>\n      <th>122462</th>\n      <td>fxsjy/jieba</td>\n      <td>2700685</td>\n      <td></td>\n      <td></td>\n      <td>jieba/posseg/prob_emit.py</td>\n      <td></td>\n    </tr>\n    <tr>\n      <th>134333</th>\n      <td>google/enjarify</td>\n      <td>1601623</td>\n      <td></td>\n      <td></td>\n      <td>enjarify/jvm/constants/lookup.py</td>\n      <td></td>\n    </tr>\n    <tr>\n      <th>138445</th>\n      <td>gravitational/teleport</td>\n      <td>1708882</td>\n      <td></td>\n      <td></td>\n      <td>docs/get-pip.py</td>\n      <td></td>\n    </tr>\n    <tr>\n      <th>146567</th>\n      <td>huyingxi/Synonyms</td>\n      <td>2700685</td>\n      <td></td>\n      <td></td>\n      <td>synonyms/jieba/posseg/prob_emit.py</td>\n      <td></td>\n    </tr>\n    <tr>\n      <th>146572</th>\n      <td>huyingxi/Synonyms</td>\n      <td>1075198</td>\n      <td></td>\n      <td></td>\n      <td>synonyms/jieba/finalseg/prob_emit.py</td>\n      <td></td>\n    </tr>\n    <tr>\n      <th>155115</th>\n      <td>jopohl/urh</td>\n      <td>3925548</td>\n      <td></td>\n      <td></td>\n      <td>src/urh/ui/xtra_icons_rc.py</td>\n      <td></td>\n    </tr>\n    <tr>\n      <th>196314</th>\n      <td>persepolisdm/persepolis</td>\n      <td>1562728</td>\n      <td></td>\n      <td></td>\n      <td>persepolis/gui/resources.py</td>\n      <td></td>\n    </tr>\n    <tr>\n      <th>199042</th>\n      <td>plotly/plotly.py</td>\n      <td>3488558</td>\n      <td></td>\n      <td></td>\n      <td>packages/python/plotly/plotly/graph_objs/__ini...</td>\n      <td></td>\n    </tr>\n    <tr>\n      <th>208959</th>\n      <td>pypa/pipenv</td>\n      <td>1594649</td>\n      <td></td>\n      <td></td>\n      <td>get-pipenv.py</td>\n      <td></td>\n    </tr>\n    <tr>\n      <th>211965</th>\n      <td>python/black</td>\n      <td>1472551</td>\n      <td></td>\n      <td></td>\n      <td>profiling/mix_huge.py</td>\n      <td></td>\n    </tr>\n    <tr>\n      <th>225779</th>\n      <td>saffsd/langid.py</td>\n      <td>2528587</td>\n      <td></td>\n      <td></td>\n      <td>langid/langid.py</td>\n      <td></td>\n    </tr>\n    <tr>\n      <th>234488</th>\n      <td>spulec/moto</td>\n      <td>1128950</td>\n      <td></td>\n      <td></td>\n      <td>moto/iam/aws_managed_policies.py</td>\n      <td></td>\n    </tr>\n    <tr>\n      <th>239834</th>\n      <td>sympy/sympy</td>\n      <td>1868285</td>\n      <td></td>\n      <td></td>\n      <td>sympy/integrals/rubi/rubi_tests/tests/test_tri...</td>\n      <td></td>\n    </tr>\n    <tr>\n      <th>240787</th>\n      <td>taxigps/xbmc-addons-chinese</td>\n      <td>3459890</td>\n      <td></td>\n      <td></td>\n      <td>plugin.video.dnvodPlayer/js2py/es6/babel.py</td>\n      <td></td>\n    </tr>\n    <tr>\n      <th>253181</th>\n      <td>trailofbits/manticore</td>\n      <td>3496661</td>\n      <td></td>\n      <td></td>\n      <td>tests/native/test_x86.py</td>\n      <td></td>\n    </tr>\n    <tr>\n      <th>253226</th>\n      <td>trailofbits/manticore</td>\n      <td>1482685</td>\n      <td></td>\n      <td></td>\n      <td>tests/native/test_cpu_automatic.py</td>\n      <td></td>\n    </tr>\n    <tr>\n      <th>259427</th>\n      <td>vmware/pyvmomi</td>\n      <td>1205714</td>\n      <td></td>\n      <td></td>\n      <td>pyVmomi/ServerObjects.py</td>\n      <td></td>\n    </tr>\n  </tbody>\n</table>\n</div>"
     },
     "metadata": {},
     "execution_count": 187
    }
   ],
   "source": [
    "df[df['size'] > 1*1024*1024]"
   ]
  },
  {
   "cell_type": "code",
   "execution_count": null,
   "metadata": {},
   "outputs": [],
   "source": []
  }
 ],
 "metadata": {
  "kernelspec": {
   "name": "python3",
   "display_name": "Python 3.9.6 64-bit ('.venv': venv)"
  },
  "language_info": {
   "codemirror_mode": {
    "name": "ipython",
    "version": 3
   },
   "file_extension": ".py",
   "mimetype": "text/x-python",
   "name": "python",
   "nbconvert_exporter": "python",
   "pygments_lexer": "ipython3",
   "version": "3.9.6"
  },
  "interpreter": {
   "hash": "520cd96154fb664847bfc1fa1cbcf62ab9c187dcaf74972c2c1b0e899b8bcbf3"
  }
 },
 "nbformat": 4,
 "nbformat_minor": 5
}